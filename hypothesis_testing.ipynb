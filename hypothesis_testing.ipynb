{
 "cells": [
  {
   "cell_type": "markdown",
   "id": "527abc21",
   "metadata": {},
   "source": [
    "## For each of the following questions, formulate a null and alternative hypothesis (be as specific as you can be), then give an example of what a true positive, true negative, type I and type II errors would look like. Note that some of the questions are intentionally phrased in a vague way. It is your job to reword these as more precise questions that could be tested."
   ]
  },
  {
   "cell_type": "markdown",
   "id": "36fea4d5",
   "metadata": {},
   "source": [
    "### Has the network latency gone up since we switched internet service providers?"
   ]
  },
  {
   "cell_type": "markdown",
   "id": "6b1b2363",
   "metadata": {},
   "source": [
    "Ho : the network latency has reduced or no change with the new internet provider"
   ]
  },
  {
   "cell_type": "markdown",
   "id": "e8a12b63",
   "metadata": {},
   "source": [
    "Ha : the network latency has increased with the new internet provider"
   ]
  },
  {
   "cell_type": "markdown",
   "id": "80553bc1",
   "metadata": {},
   "source": [
    "True negative: the new internet provider has decreased latency"
   ]
  },
  {
   "cell_type": "markdown",
   "id": "88fca80a",
   "metadata": {},
   "source": [
    "True Positive: the new internet provider has increased latency"
   ]
  },
  {
   "cell_type": "markdown",
   "id": "101001a0",
   "metadata": {},
   "source": [
    "False positive (type1): the new internet states that the latency has increased but the current status is a decrease in latency"
   ]
  },
  {
   "cell_type": "markdown",
   "id": "77ef4539",
   "metadata": {},
   "source": [
    "False Negative (type2) - (double negative): the new internet states that the latency has decreased but the current status is a increase in latency\n"
   ]
  },
  {
   "cell_type": "markdown",
   "id": "db8c94c0",
   "metadata": {},
   "source": [
    "## Is the website redesign any good?\n",
    "- Has traffic increased?\n"
   ]
  },
  {
   "cell_type": "markdown",
   "id": "a7989453",
   "metadata": {},
   "source": [
    "Ho : website traffic has decreased or no change since the new website design"
   ]
  },
  {
   "cell_type": "markdown",
   "id": "c4e2e0a1",
   "metadata": {},
   "source": [
    "Ha: website traffic has increased since the new website deisgn"
   ]
  },
  {
   "cell_type": "markdown",
   "id": "521d0ebd",
   "metadata": {},
   "source": [
    "True Negative: the new website has seen a decrease in traffic "
   ]
  },
  {
   "cell_type": "markdown",
   "id": "2771e91f",
   "metadata": {},
   "source": [
    "True Positive: the new website has seen an increase in traffoc"
   ]
  },
  {
   "cell_type": "markdown",
   "id": "6d66c395",
   "metadata": {},
   "source": [
    "False Positive(type1): the website claims that traffic has increased but the reality is there is no change or it has decreased since the new redesign\n"
   ]
  },
  {
   "cell_type": "markdown",
   "id": "84aab88c",
   "metadata": {},
   "source": [
    "False Negative(type2): the website claims that the traffic has decreased but the reality is that there is an increase in the traffic since the redesign"
   ]
  },
  {
   "cell_type": "markdown",
   "id": "8f50f042",
   "metadata": {},
   "source": [
    "## Is our television ad driving more sales?\n",
    "- has revenue increased?"
   ]
  },
  {
   "cell_type": "markdown",
   "id": "2790c4e8",
   "metadata": {},
   "source": [
    "Ho : the television ad did not drive more sales or they stayed the same"
   ]
  },
  {
   "cell_type": "markdown",
   "id": "81411296",
   "metadata": {},
   "source": [
    "Ha: the television add increased sales and revenue"
   ]
  },
  {
   "cell_type": "markdown",
   "id": "39582f75",
   "metadata": {},
   "source": [
    "True Negative: we think "
   ]
  },
  {
   "cell_type": "markdown",
   "id": "85e3a56d",
   "metadata": {},
   "source": [
    "True Positive : we think sales went up with the new ad and they did by increasing revenue and sales"
   ]
  },
  {
   "cell_type": "markdown",
   "id": "2b594538",
   "metadata": {},
   "source": [
    "False Positive (type1): we think that the new ad drove sales up, but they did not increase revenue"
   ]
  },
  {
   "cell_type": "markdown",
   "id": "1ca3020a",
   "metadata": {},
   "source": [
    "False Negative (type2): We do not think sales went up, but our revenue and sales did increase"
   ]
  },
  {
   "cell_type": "markdown",
   "id": "2c33311f",
   "metadata": {},
   "source": []
  },
  {
   "cell_type": "code",
   "execution_count": 1,
   "id": "5bc3da94",
   "metadata": {},
   "outputs": [],
   "source": [
    "import numpy as np\n",
    "import seaborn as sns\n",
    "import scipy.stats as stats\n",
    "import pandas as pd\n",
    "import matplotlib.pyplot as plt"
   ]
  },
  {
   "cell_type": "markdown",
   "id": "472def60",
   "metadata": {},
   "source": [
    "## Ace Realty wants to determine whether the average time it takes to sell homes is different for its two offices. A sample of 40 sales from office #1 revealed a mean of 90 days and a standard deviation of 15 days. A sample of 50 sales from office #2 revealed a mean of 100 days and a standard deviation of 20 days. Use a .05 level of significance."
   ]
  },
  {
   "cell_type": "code",
   "execution_count": null,
   "id": "3b289196",
   "metadata": {},
   "outputs": [],
   "source": [
    "#office 1\n",
    "#40 sales, mean 90, std 15\n",
    "\n",
    "#office 2\n",
    "#50 sales, mean 100, std 20\n",
    "#.05 alpha\n"
   ]
  },
  {
   "cell_type": "markdown",
   "id": "fb1991c7",
   "metadata": {},
   "source": [
    "H0 = the mean it takes to sell for office 1 == the mean it tajes to sell office 2\n",
    "\n",
    "HA = the mean it takes to sell for office 1 != the mean it takes for office 2"
   ]
  },
  {
   "cell_type": "code",
   "execution_count": null,
   "id": "07bc7d56",
   "metadata": {},
   "outputs": [],
   "source": [
    "#(mean, std, trials)\n",
    "office_1 = np.random.normal(90, 15, 40)\n",
    "office_1\n"
   ]
  },
  {
   "cell_type": "code",
   "execution_count": null,
   "id": "75d30307",
   "metadata": {},
   "outputs": [],
   "source": [
    "\n",
    "office_2 = np.random.normal(100, 20, 50)\n",
    "office_2"
   ]
  },
  {
   "cell_type": "code",
   "execution_count": null,
   "id": "e9b13251",
   "metadata": {},
   "outputs": [],
   "source": [
    "#Ravinder's - Visualize two distributions:\n",
    "\n",
    "x = np.arrange(50, 150)\n",
    "\n",
    "y1 = stats.norm(90,15).pdf(x)\n",
    "y2 = stats.norm(100,20).pdf(x)\n",
    "\n"
   ]
  },
  {
   "cell_type": "code",
   "execution_count": null,
   "id": "4a0d5185",
   "metadata": {},
   "outputs": [],
   "source": []
  },
  {
   "cell_type": "code",
   "execution_count": null,
   "id": "f7e92af2",
   "metadata": {},
   "outputs": [],
   "source": [
    "#Independent T-Test & asking for difference\n",
    "alpha = .05"
   ]
  },
  {
   "cell_type": "code",
   "execution_count": null,
   "id": "10425ba5",
   "metadata": {},
   "outputs": [],
   "source": [
    "t, p = stats.ttest_ind(office_1, office_2, equal_var = False)\n",
    "t, p, alpha"
   ]
  },
  {
   "cell_type": "code",
   "execution_count": null,
   "id": "e8c7decc",
   "metadata": {},
   "outputs": [],
   "source": [
    "p < alpha"
   ]
  },
  {
   "cell_type": "markdown",
   "id": "5adac48b",
   "metadata": {},
   "source": [
    "## Load the mpg dataset and use it to answer the following questions:"
   ]
  },
  {
   "cell_type": "code",
   "execution_count": null,
   "id": "d60b5e0f",
   "metadata": {},
   "outputs": [],
   "source": [
    "df = data(\"mpg\")\n",
    "df.head()"
   ]
  },
  {
   "cell_type": "markdown",
   "id": "644c1e92",
   "metadata": {},
   "source": [
    "### Is there a difference in fuel-efficiency in cars from 2008 vs 1999?\n"
   ]
  },
  {
   "cell_type": "markdown",
   "id": "67b37135",
   "metadata": {},
   "source": [
    "H0 = mean amount of fuel efficiency 2008 cars == mean amount of fuel efficiency 1999 cars\n",
    "HA = mean amount of fuel efficiency 2008 cars != mean amount of fuel efficiency 1999 cars"
   ]
  },
  {
   "cell_type": "code",
   "execution_count": null,
   "id": "a4ca3559",
   "metadata": {},
   "outputs": [],
   "source": [
    "df['fuel_efficiency'] = ((df.cty + df.hwy)/2)\n",
    "df"
   ]
  },
  {
   "cell_type": "code",
   "execution_count": null,
   "id": "65915667",
   "metadata": {},
   "outputs": [],
   "source": [
    "cars_2008 = df[df.year == 2008].fuel_efficiency\n",
    "cars_1999 = df[df.year == 1999].fuel_efficiency"
   ]
  },
  {
   "cell_type": "code",
   "execution_count": null,
   "id": "ddc64495",
   "metadata": {},
   "outputs": [],
   "source": [
    "cars_2008.var(), cars_1999.var()"
   ]
  },
  {
   "cell_type": "code",
   "execution_count": null,
   "id": "09e34baf",
   "metadata": {},
   "outputs": [],
   "source": [
    "cars_2008.hist()"
   ]
  },
  {
   "cell_type": "code",
   "execution_count": null,
   "id": "0b7e116a",
   "metadata": {},
   "outputs": [],
   "source": [
    "cars_1999.hist()"
   ]
  },
  {
   "cell_type": "code",
   "execution_count": null,
   "id": "608b0e7f",
   "metadata": {},
   "outputs": [],
   "source": [
    "t, p = stats.ttest_ind(cars_2008, cars_1999)\n",
    "t, p, alpha"
   ]
  },
  {
   "cell_type": "code",
   "execution_count": null,
   "id": "ca432529",
   "metadata": {},
   "outputs": [],
   "source": [
    "if p < alpha:\n",
    "    print(\"We reject the null hypothesis\")\n",
    "else:\n",
    "    print(\"We fail to reject the null hypothesis\")"
   ]
  },
  {
   "cell_type": "markdown",
   "id": "9d19f06c",
   "metadata": {},
   "source": []
  },
  {
   "cell_type": "markdown",
   "id": "d090c011",
   "metadata": {},
   "source": [
    "### Are compact cars more fuel-efficient than the average car?\n"
   ]
  },
  {
   "cell_type": "markdown",
   "id": "032eccaf",
   "metadata": {},
   "source": [
    "H0 : compact cars fuel efficiency <= average cars fuel efficiency\n",
    "\n",
    "HA : compact cars fuel efficiency > average cars fuel efficiency"
   ]
  },
  {
   "cell_type": "code",
   "execution_count": null,
   "id": "cd6a2081",
   "metadata": {},
   "outputs": [],
   "source": [
    "df.head()"
   ]
  },
  {
   "cell_type": "code",
   "execution_count": null,
   "id": "7c0e19df",
   "metadata": {},
   "outputs": [],
   "source": [
    "df['class'].value_counts()"
   ]
  },
  {
   "cell_type": "code",
   "execution_count": null,
   "id": "8a296402",
   "metadata": {},
   "outputs": [],
   "source": [
    "compact_cars = df[df['class'] == 'compact'].fuel_efficiency\n"
   ]
  },
  {
   "cell_type": "code",
   "execution_count": null,
   "id": "c41cab3e",
   "metadata": {},
   "outputs": [],
   "source": [
    "compact_cars.hist()"
   ]
  },
  {
   "cell_type": "code",
   "execution_count": null,
   "id": "8e9bcdc9",
   "metadata": {},
   "outputs": [],
   "source": [
    "compact_cars.mean()"
   ]
  },
  {
   "cell_type": "code",
   "execution_count": null,
   "id": "263a4705",
   "metadata": {},
   "outputs": [],
   "source": [
    "compact_mean = compact_cars.mean()\n",
    "compact_mean"
   ]
  },
  {
   "cell_type": "code",
   "execution_count": null,
   "id": "37fb8e61",
   "metadata": {},
   "outputs": [],
   "source": [
    "compact_cars.describe()"
   ]
  },
  {
   "cell_type": "code",
   "execution_count": null,
   "id": "a11acc3d",
   "metadata": {},
   "outputs": [],
   "source": [
    "average_car = df['fuel_efficiency']\n",
    "average_car"
   ]
  },
  {
   "cell_type": "code",
   "execution_count": null,
   "id": "abcdd559",
   "metadata": {},
   "outputs": [],
   "source": [
    "t, p = stats.ttest_1samp(compact_cars, average_car.mean())\n",
    "t, p/2, alpha"
   ]
  },
  {
   "cell_type": "code",
   "execution_count": null,
   "id": "775a5fce",
   "metadata": {},
   "outputs": [],
   "source": [
    "if p < alpha:\n",
    "    print(\"We reject the null hypothesis\")\n",
    "else:\n",
    "    print(\"We fail to reject the null hypothesis\")"
   ]
  },
  {
   "cell_type": "markdown",
   "id": "c7bb0d87",
   "metadata": {},
   "source": [
    "### Do manual cars get better gas mileage than automatic cars?"
   ]
  },
  {
   "cell_type": "code",
   "execution_count": null,
   "id": "4a33abcc",
   "metadata": {},
   "outputs": [],
   "source": [
    "automatic = df[df['trans'].str.contains(\"auto\")]\n",
    "manual = df[df['trans'].str.contains(\"manual\")]"
   ]
  },
  {
   "cell_type": "code",
   "execution_count": null,
   "id": "67e6271d",
   "metadata": {},
   "outputs": [],
   "source": [
    "automatic['fuel_efficiency'].hist()"
   ]
  },
  {
   "cell_type": "code",
   "execution_count": null,
   "id": "7be489fb",
   "metadata": {},
   "outputs": [],
   "source": [
    "manual['fuel_efficiency'].hist()"
   ]
  },
  {
   "cell_type": "code",
   "execution_count": null,
   "id": "c303981b",
   "metadata": {},
   "outputs": [],
   "source": [
    "automatic.fuel_efficiency.var()"
   ]
  },
  {
   "cell_type": "code",
   "execution_count": null,
   "id": "7db3cf1e",
   "metadata": {},
   "outputs": [],
   "source": [
    "manual.fuel_efficiency.var()"
   ]
  },
  {
   "cell_type": "code",
   "execution_count": null,
   "id": "ba112d43",
   "metadata": {},
   "outputs": [],
   "source": [
    "t, p = stats.ttest_ind(manual.fuel_efficiency, automatic.fuel_efficiency, equal_var = True)\n",
    "t, p"
   ]
  },
  {
   "cell_type": "code",
   "execution_count": null,
   "id": "baa3108a",
   "metadata": {},
   "outputs": [],
   "source": [
    "p = p/2\n",
    "p"
   ]
  },
  {
   "cell_type": "code",
   "execution_count": null,
   "id": "3e0f9054",
   "metadata": {},
   "outputs": [],
   "source": [
    "t"
   ]
  },
  {
   "cell_type": "code",
   "execution_count": null,
   "id": "d280dc00",
   "metadata": {},
   "outputs": [],
   "source": [
    "if (p < alpha) & (t > 0):\n",
    "    print(\"We reject the null hypothesis\")\n",
    "else:\n",
    "    print(\"We fail to reject the null hypothesis\")"
   ]
  },
  {
   "cell_type": "code",
   "execution_count": null,
   "id": "e1482f84",
   "metadata": {},
   "outputs": [],
   "source": []
  },
  {
   "cell_type": "code",
   "execution_count": null,
   "id": "4c4ae4c5",
   "metadata": {},
   "outputs": [],
   "source": []
  },
  {
   "cell_type": "markdown",
   "id": "55eeb069",
   "metadata": {},
   "source": [
    "## 1. Use the telco_churn data. Does tenure correlate with monthly charges? Total charges? What happens if you control for phone and internet service?"
   ]
  },
  {
   "cell_type": "code",
   "execution_count": 42,
   "id": "5a40955a",
   "metadata": {
    "scrolled": false
   },
   "outputs": [
    {
     "data": {
      "text/html": [
       "<div>\n",
       "<style scoped>\n",
       "    .dataframe tbody tr th:only-of-type {\n",
       "        vertical-align: middle;\n",
       "    }\n",
       "\n",
       "    .dataframe tbody tr th {\n",
       "        vertical-align: top;\n",
       "    }\n",
       "\n",
       "    .dataframe thead th {\n",
       "        text-align: right;\n",
       "    }\n",
       "</style>\n",
       "<table border=\"1\" class=\"dataframe\">\n",
       "  <thead>\n",
       "    <tr style=\"text-align: right;\">\n",
       "      <th></th>\n",
       "      <th>customerID</th>\n",
       "      <th>gender</th>\n",
       "      <th>SeniorCitizen</th>\n",
       "      <th>Partner</th>\n",
       "      <th>Dependents</th>\n",
       "      <th>tenure</th>\n",
       "      <th>PhoneService</th>\n",
       "      <th>MultipleLines</th>\n",
       "      <th>InternetService</th>\n",
       "      <th>OnlineSecurity</th>\n",
       "      <th>...</th>\n",
       "      <th>DeviceProtection</th>\n",
       "      <th>TechSupport</th>\n",
       "      <th>StreamingTV</th>\n",
       "      <th>StreamingMovies</th>\n",
       "      <th>Contract</th>\n",
       "      <th>PaperlessBilling</th>\n",
       "      <th>PaymentMethod</th>\n",
       "      <th>MonthlyCharges</th>\n",
       "      <th>TotalCharges</th>\n",
       "      <th>Churn</th>\n",
       "    </tr>\n",
       "  </thead>\n",
       "  <tbody>\n",
       "    <tr>\n",
       "      <th>0</th>\n",
       "      <td>7590-VHVEG</td>\n",
       "      <td>Female</td>\n",
       "      <td>0</td>\n",
       "      <td>Yes</td>\n",
       "      <td>No</td>\n",
       "      <td>1</td>\n",
       "      <td>No</td>\n",
       "      <td>No phone service</td>\n",
       "      <td>DSL</td>\n",
       "      <td>No</td>\n",
       "      <td>...</td>\n",
       "      <td>No</td>\n",
       "      <td>No</td>\n",
       "      <td>No</td>\n",
       "      <td>No</td>\n",
       "      <td>Month-to-month</td>\n",
       "      <td>Yes</td>\n",
       "      <td>Electronic check</td>\n",
       "      <td>29.85</td>\n",
       "      <td>29.85</td>\n",
       "      <td>No</td>\n",
       "    </tr>\n",
       "    <tr>\n",
       "      <th>1</th>\n",
       "      <td>5575-GNVDE</td>\n",
       "      <td>Male</td>\n",
       "      <td>0</td>\n",
       "      <td>No</td>\n",
       "      <td>No</td>\n",
       "      <td>34</td>\n",
       "      <td>Yes</td>\n",
       "      <td>No</td>\n",
       "      <td>DSL</td>\n",
       "      <td>Yes</td>\n",
       "      <td>...</td>\n",
       "      <td>Yes</td>\n",
       "      <td>No</td>\n",
       "      <td>No</td>\n",
       "      <td>No</td>\n",
       "      <td>One year</td>\n",
       "      <td>No</td>\n",
       "      <td>Mailed check</td>\n",
       "      <td>56.95</td>\n",
       "      <td>1889.5</td>\n",
       "      <td>No</td>\n",
       "    </tr>\n",
       "    <tr>\n",
       "      <th>2</th>\n",
       "      <td>3668-QPYBK</td>\n",
       "      <td>Male</td>\n",
       "      <td>0</td>\n",
       "      <td>No</td>\n",
       "      <td>No</td>\n",
       "      <td>2</td>\n",
       "      <td>Yes</td>\n",
       "      <td>No</td>\n",
       "      <td>DSL</td>\n",
       "      <td>Yes</td>\n",
       "      <td>...</td>\n",
       "      <td>No</td>\n",
       "      <td>No</td>\n",
       "      <td>No</td>\n",
       "      <td>No</td>\n",
       "      <td>Month-to-month</td>\n",
       "      <td>Yes</td>\n",
       "      <td>Mailed check</td>\n",
       "      <td>53.85</td>\n",
       "      <td>108.15</td>\n",
       "      <td>Yes</td>\n",
       "    </tr>\n",
       "    <tr>\n",
       "      <th>3</th>\n",
       "      <td>7795-CFOCW</td>\n",
       "      <td>Male</td>\n",
       "      <td>0</td>\n",
       "      <td>No</td>\n",
       "      <td>No</td>\n",
       "      <td>45</td>\n",
       "      <td>No</td>\n",
       "      <td>No phone service</td>\n",
       "      <td>DSL</td>\n",
       "      <td>Yes</td>\n",
       "      <td>...</td>\n",
       "      <td>Yes</td>\n",
       "      <td>Yes</td>\n",
       "      <td>No</td>\n",
       "      <td>No</td>\n",
       "      <td>One year</td>\n",
       "      <td>No</td>\n",
       "      <td>Bank transfer (automatic)</td>\n",
       "      <td>42.30</td>\n",
       "      <td>1840.75</td>\n",
       "      <td>No</td>\n",
       "    </tr>\n",
       "    <tr>\n",
       "      <th>4</th>\n",
       "      <td>9237-HQITU</td>\n",
       "      <td>Female</td>\n",
       "      <td>0</td>\n",
       "      <td>No</td>\n",
       "      <td>No</td>\n",
       "      <td>2</td>\n",
       "      <td>Yes</td>\n",
       "      <td>No</td>\n",
       "      <td>Fiber optic</td>\n",
       "      <td>No</td>\n",
       "      <td>...</td>\n",
       "      <td>No</td>\n",
       "      <td>No</td>\n",
       "      <td>No</td>\n",
       "      <td>No</td>\n",
       "      <td>Month-to-month</td>\n",
       "      <td>Yes</td>\n",
       "      <td>Electronic check</td>\n",
       "      <td>70.70</td>\n",
       "      <td>151.65</td>\n",
       "      <td>Yes</td>\n",
       "    </tr>\n",
       "    <tr>\n",
       "      <th>...</th>\n",
       "      <td>...</td>\n",
       "      <td>...</td>\n",
       "      <td>...</td>\n",
       "      <td>...</td>\n",
       "      <td>...</td>\n",
       "      <td>...</td>\n",
       "      <td>...</td>\n",
       "      <td>...</td>\n",
       "      <td>...</td>\n",
       "      <td>...</td>\n",
       "      <td>...</td>\n",
       "      <td>...</td>\n",
       "      <td>...</td>\n",
       "      <td>...</td>\n",
       "      <td>...</td>\n",
       "      <td>...</td>\n",
       "      <td>...</td>\n",
       "      <td>...</td>\n",
       "      <td>...</td>\n",
       "      <td>...</td>\n",
       "      <td>...</td>\n",
       "    </tr>\n",
       "    <tr>\n",
       "      <th>7038</th>\n",
       "      <td>6840-RESVB</td>\n",
       "      <td>Male</td>\n",
       "      <td>0</td>\n",
       "      <td>Yes</td>\n",
       "      <td>Yes</td>\n",
       "      <td>24</td>\n",
       "      <td>Yes</td>\n",
       "      <td>Yes</td>\n",
       "      <td>DSL</td>\n",
       "      <td>Yes</td>\n",
       "      <td>...</td>\n",
       "      <td>Yes</td>\n",
       "      <td>Yes</td>\n",
       "      <td>Yes</td>\n",
       "      <td>Yes</td>\n",
       "      <td>One year</td>\n",
       "      <td>Yes</td>\n",
       "      <td>Mailed check</td>\n",
       "      <td>84.80</td>\n",
       "      <td>1990.5</td>\n",
       "      <td>No</td>\n",
       "    </tr>\n",
       "    <tr>\n",
       "      <th>7039</th>\n",
       "      <td>2234-XADUH</td>\n",
       "      <td>Female</td>\n",
       "      <td>0</td>\n",
       "      <td>Yes</td>\n",
       "      <td>Yes</td>\n",
       "      <td>72</td>\n",
       "      <td>Yes</td>\n",
       "      <td>Yes</td>\n",
       "      <td>Fiber optic</td>\n",
       "      <td>No</td>\n",
       "      <td>...</td>\n",
       "      <td>Yes</td>\n",
       "      <td>No</td>\n",
       "      <td>Yes</td>\n",
       "      <td>Yes</td>\n",
       "      <td>One year</td>\n",
       "      <td>Yes</td>\n",
       "      <td>Credit card (automatic)</td>\n",
       "      <td>103.20</td>\n",
       "      <td>7362.9</td>\n",
       "      <td>No</td>\n",
       "    </tr>\n",
       "    <tr>\n",
       "      <th>7040</th>\n",
       "      <td>4801-JZAZL</td>\n",
       "      <td>Female</td>\n",
       "      <td>0</td>\n",
       "      <td>Yes</td>\n",
       "      <td>Yes</td>\n",
       "      <td>11</td>\n",
       "      <td>No</td>\n",
       "      <td>No phone service</td>\n",
       "      <td>DSL</td>\n",
       "      <td>Yes</td>\n",
       "      <td>...</td>\n",
       "      <td>No</td>\n",
       "      <td>No</td>\n",
       "      <td>No</td>\n",
       "      <td>No</td>\n",
       "      <td>Month-to-month</td>\n",
       "      <td>Yes</td>\n",
       "      <td>Electronic check</td>\n",
       "      <td>29.60</td>\n",
       "      <td>346.45</td>\n",
       "      <td>No</td>\n",
       "    </tr>\n",
       "    <tr>\n",
       "      <th>7041</th>\n",
       "      <td>8361-LTMKD</td>\n",
       "      <td>Male</td>\n",
       "      <td>1</td>\n",
       "      <td>Yes</td>\n",
       "      <td>No</td>\n",
       "      <td>4</td>\n",
       "      <td>Yes</td>\n",
       "      <td>Yes</td>\n",
       "      <td>Fiber optic</td>\n",
       "      <td>No</td>\n",
       "      <td>...</td>\n",
       "      <td>No</td>\n",
       "      <td>No</td>\n",
       "      <td>No</td>\n",
       "      <td>No</td>\n",
       "      <td>Month-to-month</td>\n",
       "      <td>Yes</td>\n",
       "      <td>Mailed check</td>\n",
       "      <td>74.40</td>\n",
       "      <td>306.6</td>\n",
       "      <td>Yes</td>\n",
       "    </tr>\n",
       "    <tr>\n",
       "      <th>7042</th>\n",
       "      <td>3186-AJIEK</td>\n",
       "      <td>Male</td>\n",
       "      <td>0</td>\n",
       "      <td>No</td>\n",
       "      <td>No</td>\n",
       "      <td>66</td>\n",
       "      <td>Yes</td>\n",
       "      <td>No</td>\n",
       "      <td>Fiber optic</td>\n",
       "      <td>Yes</td>\n",
       "      <td>...</td>\n",
       "      <td>Yes</td>\n",
       "      <td>Yes</td>\n",
       "      <td>Yes</td>\n",
       "      <td>Yes</td>\n",
       "      <td>Two year</td>\n",
       "      <td>Yes</td>\n",
       "      <td>Bank transfer (automatic)</td>\n",
       "      <td>105.65</td>\n",
       "      <td>6844.5</td>\n",
       "      <td>No</td>\n",
       "    </tr>\n",
       "  </tbody>\n",
       "</table>\n",
       "<p>7043 rows × 21 columns</p>\n",
       "</div>"
      ],
      "text/plain": [
       "      customerID  gender  SeniorCitizen Partner Dependents  tenure  \\\n",
       "0     7590-VHVEG  Female              0     Yes         No       1   \n",
       "1     5575-GNVDE    Male              0      No         No      34   \n",
       "2     3668-QPYBK    Male              0      No         No       2   \n",
       "3     7795-CFOCW    Male              0      No         No      45   \n",
       "4     9237-HQITU  Female              0      No         No       2   \n",
       "...          ...     ...            ...     ...        ...     ...   \n",
       "7038  6840-RESVB    Male              0     Yes        Yes      24   \n",
       "7039  2234-XADUH  Female              0     Yes        Yes      72   \n",
       "7040  4801-JZAZL  Female              0     Yes        Yes      11   \n",
       "7041  8361-LTMKD    Male              1     Yes         No       4   \n",
       "7042  3186-AJIEK    Male              0      No         No      66   \n",
       "\n",
       "     PhoneService     MultipleLines InternetService OnlineSecurity  ...  \\\n",
       "0              No  No phone service             DSL             No  ...   \n",
       "1             Yes                No             DSL            Yes  ...   \n",
       "2             Yes                No             DSL            Yes  ...   \n",
       "3              No  No phone service             DSL            Yes  ...   \n",
       "4             Yes                No     Fiber optic             No  ...   \n",
       "...           ...               ...             ...            ...  ...   \n",
       "7038          Yes               Yes             DSL            Yes  ...   \n",
       "7039          Yes               Yes     Fiber optic             No  ...   \n",
       "7040           No  No phone service             DSL            Yes  ...   \n",
       "7041          Yes               Yes     Fiber optic             No  ...   \n",
       "7042          Yes                No     Fiber optic            Yes  ...   \n",
       "\n",
       "     DeviceProtection TechSupport StreamingTV StreamingMovies        Contract  \\\n",
       "0                  No          No          No              No  Month-to-month   \n",
       "1                 Yes          No          No              No        One year   \n",
       "2                  No          No          No              No  Month-to-month   \n",
       "3                 Yes         Yes          No              No        One year   \n",
       "4                  No          No          No              No  Month-to-month   \n",
       "...               ...         ...         ...             ...             ...   \n",
       "7038              Yes         Yes         Yes             Yes        One year   \n",
       "7039              Yes          No         Yes             Yes        One year   \n",
       "7040               No          No          No              No  Month-to-month   \n",
       "7041               No          No          No              No  Month-to-month   \n",
       "7042              Yes         Yes         Yes             Yes        Two year   \n",
       "\n",
       "     PaperlessBilling              PaymentMethod MonthlyCharges  TotalCharges  \\\n",
       "0                 Yes           Electronic check          29.85         29.85   \n",
       "1                  No               Mailed check          56.95        1889.5   \n",
       "2                 Yes               Mailed check          53.85        108.15   \n",
       "3                  No  Bank transfer (automatic)          42.30       1840.75   \n",
       "4                 Yes           Electronic check          70.70        151.65   \n",
       "...               ...                        ...            ...           ...   \n",
       "7038              Yes               Mailed check          84.80        1990.5   \n",
       "7039              Yes    Credit card (automatic)         103.20        7362.9   \n",
       "7040              Yes           Electronic check          29.60        346.45   \n",
       "7041              Yes               Mailed check          74.40         306.6   \n",
       "7042              Yes  Bank transfer (automatic)         105.65        6844.5   \n",
       "\n",
       "     Churn  \n",
       "0       No  \n",
       "1       No  \n",
       "2      Yes  \n",
       "3       No  \n",
       "4      Yes  \n",
       "...    ...  \n",
       "7038    No  \n",
       "7039    No  \n",
       "7040    No  \n",
       "7041   Yes  \n",
       "7042    No  \n",
       "\n",
       "[7043 rows x 21 columns]"
      ]
     },
     "execution_count": 42,
     "metadata": {},
     "output_type": "execute_result"
    }
   ],
   "source": [
    "df = pd.read_csv(\"Telco_Churn.csv\")\n",
    "telco_churn = pd.DataFrame(df)\n",
    "telco_churn = telco_churn.dropna()\n",
    "telco_churn"
   ]
  },
  {
   "cell_type": "code",
   "execution_count": 43,
   "id": "7816f9d0",
   "metadata": {},
   "outputs": [
    {
     "name": "stdout",
     "output_type": "stream",
     "text": [
      "<class 'pandas.core.frame.DataFrame'>\n",
      "Int64Index: 7043 entries, 0 to 7042\n",
      "Data columns (total 21 columns):\n",
      " #   Column            Non-Null Count  Dtype  \n",
      "---  ------            --------------  -----  \n",
      " 0   customerID        7043 non-null   object \n",
      " 1   gender            7043 non-null   object \n",
      " 2   SeniorCitizen     7043 non-null   int64  \n",
      " 3   Partner           7043 non-null   object \n",
      " 4   Dependents        7043 non-null   object \n",
      " 5   tenure            7043 non-null   int64  \n",
      " 6   PhoneService      7043 non-null   object \n",
      " 7   MultipleLines     7043 non-null   object \n",
      " 8   InternetService   7043 non-null   object \n",
      " 9   OnlineSecurity    7043 non-null   object \n",
      " 10  OnlineBackup      7043 non-null   object \n",
      " 11  DeviceProtection  7043 non-null   object \n",
      " 12  TechSupport       7043 non-null   object \n",
      " 13  StreamingTV       7043 non-null   object \n",
      " 14  StreamingMovies   7043 non-null   object \n",
      " 15  Contract          7043 non-null   object \n",
      " 16  PaperlessBilling  7043 non-null   object \n",
      " 17  PaymentMethod     7043 non-null   object \n",
      " 18  MonthlyCharges    7043 non-null   float64\n",
      " 19  TotalCharges      7043 non-null   object \n",
      " 20  Churn             7043 non-null   object \n",
      "dtypes: float64(1), int64(2), object(18)\n",
      "memory usage: 1.2+ MB\n"
     ]
    }
   ],
   "source": [
    "telco_churn.info()"
   ]
  },
  {
   "cell_type": "markdown",
   "id": "fe471273",
   "metadata": {},
   "source": [
    "Does Tenure correlate with Monthly Charges\n",
    "\n",
    "H0 : There is no correlation between tenure and monthly charges\n",
    "\n",
    "HA: There is a correlation between tenure and monthly charges"
   ]
  },
  {
   "cell_type": "code",
   "execution_count": 44,
   "id": "eb501367",
   "metadata": {},
   "outputs": [
    {
     "data": {
      "text/plain": [
       "<AxesSubplot:>"
      ]
     },
     "execution_count": 44,
     "metadata": {},
     "output_type": "execute_result"
    },
    {
     "data": {
      "image/png": "[encoded data removed]",
      "text/plain": [
       "<Figure size 432x288 with 1 Axes>"
      ]
     },
     "metadata": {
      "needs_background": "light"
     },
     "output_type": "display_data"
    }
   ],
   "source": [
    "telco_churn['tenure'].hist()"
   ]
  },
  {
   "cell_type": "code",
   "execution_count": 45,
   "id": "a2ba0a5a",
   "metadata": {},
   "outputs": [
    {
     "data": {
      "text/plain": [
       "<AxesSubplot:>"
      ]
     },
     "execution_count": 45,
     "metadata": {},
     "output_type": "execute_result"
    },
    {
     "data": {
      "image/png": "[encoded data removed]",
      "text/plain": [
       "<Figure size 432x288 with 1 Axes>"
      ]
     },
     "metadata": {
      "needs_background": "light"
     },
     "output_type": "display_data"
    }
   ],
   "source": [
    "telco_churn['MonthlyCharges'].hist()"
   ]
  },
  {
   "cell_type": "code",
   "execution_count": 46,
   "id": "e726281a",
   "metadata": {},
   "outputs": [
    {
     "data": {
      "text/plain": [
       "(603.1681081237256, 905.4109343405128)"
      ]
     },
     "execution_count": 46,
     "metadata": {},
     "output_type": "execute_result"
    }
   ],
   "source": [
    "telco_churn['tenure'].var(), telco_churn['MonthlyCharges'].var()"
   ]
  },
  {
   "cell_type": "code",
   "execution_count": 47,
   "id": "c03a8f69",
   "metadata": {},
   "outputs": [
    {
     "data": {
      "text/plain": [
       "(0.2478998562861525, 4.094044991483017e-99)"
      ]
     },
     "execution_count": 47,
     "metadata": {},
     "output_type": "execute_result"
    }
   ],
   "source": [
    "x= telco_churn['tenure']\n",
    "y= telco_churn['MonthlyCharges']\n",
    "alpha = 0.05\n",
    "\n",
    "corr, p = stats.pearsonr(x, y)\n",
    "corr, p"
   ]
  },
  {
   "cell_type": "code",
   "execution_count": 48,
   "id": "d4232409",
   "metadata": {},
   "outputs": [
    {
     "data": {
      "text/plain": [
       "True"
      ]
     },
     "execution_count": 48,
     "metadata": {},
     "output_type": "execute_result"
    }
   ],
   "source": [
    "p < alpha"
   ]
  },
  {
   "cell_type": "code",
   "execution_count": 49,
   "id": "0c04c2b2",
   "metadata": {},
   "outputs": [
    {
     "name": "stdout",
     "output_type": "stream",
     "text": [
      "We are rejecting our Null Hypothesis\n"
     ]
    }
   ],
   "source": [
    "if p < alpha:\n",
    "    print(\"We are rejecting our Null Hypothesis\")\n",
    "else:\n",
    "    print(\"We are failing to reject our Null Hypothesis\")"
   ]
  },
  {
   "cell_type": "markdown",
   "id": "4d6fe930",
   "metadata": {},
   "source": [
    "## Does tenure correlate with total charges?\n",
    "\n",
    "H0: There is no correlation between tenure and total charges\n",
    "\n",
    "HA: There is a correlation between tenure and monthly charges"
   ]
  },
  {
   "cell_type": "code",
   "execution_count": 50,
   "id": "ccee67e0",
   "metadata": {
    "scrolled": false
   },
   "outputs": [
    {
     "data": {
      "text/plain": [
       "<AxesSubplot:>"
      ]
     },
     "execution_count": 50,
     "metadata": {},
     "output_type": "execute_result"
    },
    {
     "data": {
      "image/png": "[encoded data removed]",
      "text/plain": [
       "<Figure size 432x288 with 1 Axes>"
      ]
     },
     "metadata": {
      "needs_background": "light"
     },
     "output_type": "display_data"
    }
   ],
   "source": [
    "telco_churn['tenure'].hist()"
   ]
  },
  {
   "cell_type": "code",
   "execution_count": 62,
   "id": "cd0b12ad",
   "metadata": {
    "scrolled": true
   },
   "outputs": [
    {
     "data": {
      "text/html": [
       "<div>\n",
       "<style scoped>\n",
       "    .dataframe tbody tr th:only-of-type {\n",
       "        vertical-align: middle;\n",
       "    }\n",
       "\n",
       "    .dataframe tbody tr th {\n",
       "        vertical-align: top;\n",
       "    }\n",
       "\n",
       "    .dataframe thead th {\n",
       "        text-align: right;\n",
       "    }\n",
       "</style>\n",
       "<table border=\"1\" class=\"dataframe\">\n",
       "  <thead>\n",
       "    <tr style=\"text-align: right;\">\n",
       "      <th></th>\n",
       "      <th>customerID</th>\n",
       "      <th>gender</th>\n",
       "      <th>SeniorCitizen</th>\n",
       "      <th>Partner</th>\n",
       "      <th>Dependents</th>\n",
       "      <th>tenure</th>\n",
       "      <th>PhoneService</th>\n",
       "      <th>MultipleLines</th>\n",
       "      <th>InternetService</th>\n",
       "      <th>OnlineSecurity</th>\n",
       "      <th>...</th>\n",
       "      <th>DeviceProtection</th>\n",
       "      <th>TechSupport</th>\n",
       "      <th>StreamingTV</th>\n",
       "      <th>StreamingMovies</th>\n",
       "      <th>Contract</th>\n",
       "      <th>PaperlessBilling</th>\n",
       "      <th>PaymentMethod</th>\n",
       "      <th>MonthlyCharges</th>\n",
       "      <th>TotalCharges</th>\n",
       "      <th>Churn</th>\n",
       "    </tr>\n",
       "  </thead>\n",
       "  <tbody>\n",
       "    <tr>\n",
       "      <th>0</th>\n",
       "      <td>7590-VHVEG</td>\n",
       "      <td>Female</td>\n",
       "      <td>0</td>\n",
       "      <td>Yes</td>\n",
       "      <td>No</td>\n",
       "      <td>1</td>\n",
       "      <td>No</td>\n",
       "      <td>No phone service</td>\n",
       "      <td>DSL</td>\n",
       "      <td>No</td>\n",
       "      <td>...</td>\n",
       "      <td>No</td>\n",
       "      <td>No</td>\n",
       "      <td>No</td>\n",
       "      <td>No</td>\n",
       "      <td>Month-to-month</td>\n",
       "      <td>Yes</td>\n",
       "      <td>Electronic check</td>\n",
       "      <td>29.85</td>\n",
       "      <td>29.85</td>\n",
       "      <td>No</td>\n",
       "    </tr>\n",
       "    <tr>\n",
       "      <th>1</th>\n",
       "      <td>5575-GNVDE</td>\n",
       "      <td>Male</td>\n",
       "      <td>0</td>\n",
       "      <td>No</td>\n",
       "      <td>No</td>\n",
       "      <td>34</td>\n",
       "      <td>Yes</td>\n",
       "      <td>No</td>\n",
       "      <td>DSL</td>\n",
       "      <td>Yes</td>\n",
       "      <td>...</td>\n",
       "      <td>Yes</td>\n",
       "      <td>No</td>\n",
       "      <td>No</td>\n",
       "      <td>No</td>\n",
       "      <td>One year</td>\n",
       "      <td>No</td>\n",
       "      <td>Mailed check</td>\n",
       "      <td>56.95</td>\n",
       "      <td>1889.50</td>\n",
       "      <td>No</td>\n",
       "    </tr>\n",
       "    <tr>\n",
       "      <th>2</th>\n",
       "      <td>3668-QPYBK</td>\n",
       "      <td>Male</td>\n",
       "      <td>0</td>\n",
       "      <td>No</td>\n",
       "      <td>No</td>\n",
       "      <td>2</td>\n",
       "      <td>Yes</td>\n",
       "      <td>No</td>\n",
       "      <td>DSL</td>\n",
       "      <td>Yes</td>\n",
       "      <td>...</td>\n",
       "      <td>No</td>\n",
       "      <td>No</td>\n",
       "      <td>No</td>\n",
       "      <td>No</td>\n",
       "      <td>Month-to-month</td>\n",
       "      <td>Yes</td>\n",
       "      <td>Mailed check</td>\n",
       "      <td>53.85</td>\n",
       "      <td>108.15</td>\n",
       "      <td>Yes</td>\n",
       "    </tr>\n",
       "    <tr>\n",
       "      <th>3</th>\n",
       "      <td>7795-CFOCW</td>\n",
       "      <td>Male</td>\n",
       "      <td>0</td>\n",
       "      <td>No</td>\n",
       "      <td>No</td>\n",
       "      <td>45</td>\n",
       "      <td>No</td>\n",
       "      <td>No phone service</td>\n",
       "      <td>DSL</td>\n",
       "      <td>Yes</td>\n",
       "      <td>...</td>\n",
       "      <td>Yes</td>\n",
       "      <td>Yes</td>\n",
       "      <td>No</td>\n",
       "      <td>No</td>\n",
       "      <td>One year</td>\n",
       "      <td>No</td>\n",
       "      <td>Bank transfer (automatic)</td>\n",
       "      <td>42.30</td>\n",
       "      <td>1840.75</td>\n",
       "      <td>No</td>\n",
       "    </tr>\n",
       "    <tr>\n",
       "      <th>4</th>\n",
       "      <td>9237-HQITU</td>\n",
       "      <td>Female</td>\n",
       "      <td>0</td>\n",
       "      <td>No</td>\n",
       "      <td>No</td>\n",
       "      <td>2</td>\n",
       "      <td>Yes</td>\n",
       "      <td>No</td>\n",
       "      <td>Fiber optic</td>\n",
       "      <td>No</td>\n",
       "      <td>...</td>\n",
       "      <td>No</td>\n",
       "      <td>No</td>\n",
       "      <td>No</td>\n",
       "      <td>No</td>\n",
       "      <td>Month-to-month</td>\n",
       "      <td>Yes</td>\n",
       "      <td>Electronic check</td>\n",
       "      <td>70.70</td>\n",
       "      <td>151.65</td>\n",
       "      <td>Yes</td>\n",
       "    </tr>\n",
       "    <tr>\n",
       "      <th>...</th>\n",
       "      <td>...</td>\n",
       "      <td>...</td>\n",
       "      <td>...</td>\n",
       "      <td>...</td>\n",
       "      <td>...</td>\n",
       "      <td>...</td>\n",
       "      <td>...</td>\n",
       "      <td>...</td>\n",
       "      <td>...</td>\n",
       "      <td>...</td>\n",
       "      <td>...</td>\n",
       "      <td>...</td>\n",
       "      <td>...</td>\n",
       "      <td>...</td>\n",
       "      <td>...</td>\n",
       "      <td>...</td>\n",
       "      <td>...</td>\n",
       "      <td>...</td>\n",
       "      <td>...</td>\n",
       "      <td>...</td>\n",
       "      <td>...</td>\n",
       "    </tr>\n",
       "    <tr>\n",
       "      <th>7038</th>\n",
       "      <td>6840-RESVB</td>\n",
       "      <td>Male</td>\n",
       "      <td>0</td>\n",
       "      <td>Yes</td>\n",
       "      <td>Yes</td>\n",
       "      <td>24</td>\n",
       "      <td>Yes</td>\n",
       "      <td>Yes</td>\n",
       "      <td>DSL</td>\n",
       "      <td>Yes</td>\n",
       "      <td>...</td>\n",
       "      <td>Yes</td>\n",
       "      <td>Yes</td>\n",
       "      <td>Yes</td>\n",
       "      <td>Yes</td>\n",
       "      <td>One year</td>\n",
       "      <td>Yes</td>\n",
       "      <td>Mailed check</td>\n",
       "      <td>84.80</td>\n",
       "      <td>1990.50</td>\n",
       "      <td>No</td>\n",
       "    </tr>\n",
       "    <tr>\n",
       "      <th>7039</th>\n",
       "      <td>2234-XADUH</td>\n",
       "      <td>Female</td>\n",
       "      <td>0</td>\n",
       "      <td>Yes</td>\n",
       "      <td>Yes</td>\n",
       "      <td>72</td>\n",
       "      <td>Yes</td>\n",
       "      <td>Yes</td>\n",
       "      <td>Fiber optic</td>\n",
       "      <td>No</td>\n",
       "      <td>...</td>\n",
       "      <td>Yes</td>\n",
       "      <td>No</td>\n",
       "      <td>Yes</td>\n",
       "      <td>Yes</td>\n",
       "      <td>One year</td>\n",
       "      <td>Yes</td>\n",
       "      <td>Credit card (automatic)</td>\n",
       "      <td>103.20</td>\n",
       "      <td>7362.90</td>\n",
       "      <td>No</td>\n",
       "    </tr>\n",
       "    <tr>\n",
       "      <th>7040</th>\n",
       "      <td>4801-JZAZL</td>\n",
       "      <td>Female</td>\n",
       "      <td>0</td>\n",
       "      <td>Yes</td>\n",
       "      <td>Yes</td>\n",
       "      <td>11</td>\n",
       "      <td>No</td>\n",
       "      <td>No phone service</td>\n",
       "      <td>DSL</td>\n",
       "      <td>Yes</td>\n",
       "      <td>...</td>\n",
       "      <td>No</td>\n",
       "      <td>No</td>\n",
       "      <td>No</td>\n",
       "      <td>No</td>\n",
       "      <td>Month-to-month</td>\n",
       "      <td>Yes</td>\n",
       "      <td>Electronic check</td>\n",
       "      <td>29.60</td>\n",
       "      <td>346.45</td>\n",
       "      <td>No</td>\n",
       "    </tr>\n",
       "    <tr>\n",
       "      <th>7041</th>\n",
       "      <td>8361-LTMKD</td>\n",
       "      <td>Male</td>\n",
       "      <td>1</td>\n",
       "      <td>Yes</td>\n",
       "      <td>No</td>\n",
       "      <td>4</td>\n",
       "      <td>Yes</td>\n",
       "      <td>Yes</td>\n",
       "      <td>Fiber optic</td>\n",
       "      <td>No</td>\n",
       "      <td>...</td>\n",
       "      <td>No</td>\n",
       "      <td>No</td>\n",
       "      <td>No</td>\n",
       "      <td>No</td>\n",
       "      <td>Month-to-month</td>\n",
       "      <td>Yes</td>\n",
       "      <td>Mailed check</td>\n",
       "      <td>74.40</td>\n",
       "      <td>306.60</td>\n",
       "      <td>Yes</td>\n",
       "    </tr>\n",
       "    <tr>\n",
       "      <th>7042</th>\n",
       "      <td>3186-AJIEK</td>\n",
       "      <td>Male</td>\n",
       "      <td>0</td>\n",
       "      <td>No</td>\n",
       "      <td>No</td>\n",
       "      <td>66</td>\n",
       "      <td>Yes</td>\n",
       "      <td>No</td>\n",
       "      <td>Fiber optic</td>\n",
       "      <td>Yes</td>\n",
       "      <td>...</td>\n",
       "      <td>Yes</td>\n",
       "      <td>Yes</td>\n",
       "      <td>Yes</td>\n",
       "      <td>Yes</td>\n",
       "      <td>Two year</td>\n",
       "      <td>Yes</td>\n",
       "      <td>Bank transfer (automatic)</td>\n",
       "      <td>105.65</td>\n",
       "      <td>6844.50</td>\n",
       "      <td>No</td>\n",
       "    </tr>\n",
       "  </tbody>\n",
       "</table>\n",
       "<p>7032 rows × 21 columns</p>\n",
       "</div>"
      ],
      "text/plain": [
       "      customerID  gender  SeniorCitizen Partner Dependents  tenure  \\\n",
       "0     7590-VHVEG  Female              0     Yes         No       1   \n",
       "1     5575-GNVDE    Male              0      No         No      34   \n",
       "2     3668-QPYBK    Male              0      No         No       2   \n",
       "3     7795-CFOCW    Male              0      No         No      45   \n",
       "4     9237-HQITU  Female              0      No         No       2   \n",
       "...          ...     ...            ...     ...        ...     ...   \n",
       "7038  6840-RESVB    Male              0     Yes        Yes      24   \n",
       "7039  2234-XADUH  Female              0     Yes        Yes      72   \n",
       "7040  4801-JZAZL  Female              0     Yes        Yes      11   \n",
       "7041  8361-LTMKD    Male              1     Yes         No       4   \n",
       "7042  3186-AJIEK    Male              0      No         No      66   \n",
       "\n",
       "     PhoneService     MultipleLines InternetService OnlineSecurity  ...  \\\n",
       "0              No  No phone service             DSL             No  ...   \n",
       "1             Yes                No             DSL            Yes  ...   \n",
       "2             Yes                No             DSL            Yes  ...   \n",
       "3              No  No phone service             DSL            Yes  ...   \n",
       "4             Yes                No     Fiber optic             No  ...   \n",
       "...           ...               ...             ...            ...  ...   \n",
       "7038          Yes               Yes             DSL            Yes  ...   \n",
       "7039          Yes               Yes     Fiber optic             No  ...   \n",
       "7040           No  No phone service             DSL            Yes  ...   \n",
       "7041          Yes               Yes     Fiber optic             No  ...   \n",
       "7042          Yes                No     Fiber optic            Yes  ...   \n",
       "\n",
       "     DeviceProtection TechSupport StreamingTV StreamingMovies        Contract  \\\n",
       "0                  No          No          No              No  Month-to-month   \n",
       "1                 Yes          No          No              No        One year   \n",
       "2                  No          No          No              No  Month-to-month   \n",
       "3                 Yes         Yes          No              No        One year   \n",
       "4                  No          No          No              No  Month-to-month   \n",
       "...               ...         ...         ...             ...             ...   \n",
       "7038              Yes         Yes         Yes             Yes        One year   \n",
       "7039              Yes          No         Yes             Yes        One year   \n",
       "7040               No          No          No              No  Month-to-month   \n",
       "7041               No          No          No              No  Month-to-month   \n",
       "7042              Yes         Yes         Yes             Yes        Two year   \n",
       "\n",
       "     PaperlessBilling              PaymentMethod MonthlyCharges  TotalCharges  \\\n",
       "0                 Yes           Electronic check          29.85         29.85   \n",
       "1                  No               Mailed check          56.95       1889.50   \n",
       "2                 Yes               Mailed check          53.85        108.15   \n",
       "3                  No  Bank transfer (automatic)          42.30       1840.75   \n",
       "4                 Yes           Electronic check          70.70        151.65   \n",
       "...               ...                        ...            ...           ...   \n",
       "7038              Yes               Mailed check          84.80       1990.50   \n",
       "7039              Yes    Credit card (automatic)         103.20       7362.90   \n",
       "7040              Yes           Electronic check          29.60        346.45   \n",
       "7041              Yes               Mailed check          74.40        306.60   \n",
       "7042              Yes  Bank transfer (automatic)         105.65       6844.50   \n",
       "\n",
       "      Churn  \n",
       "0        No  \n",
       "1        No  \n",
       "2       Yes  \n",
       "3        No  \n",
       "4       Yes  \n",
       "...     ...  \n",
       "7038     No  \n",
       "7039     No  \n",
       "7040     No  \n",
       "7041    Yes  \n",
       "7042     No  \n",
       "\n",
       "[7032 rows x 21 columns]"
      ]
     },
     "execution_count": 62,
     "metadata": {},
     "output_type": "execute_result"
    }
   ],
   "source": [
    "#telco_churn['TotalCharges'].sort_values()\n",
    "\n",
    "telco_churn = telco_churn.dropna()\n",
    "telco_churn\n",
    "#drop 11 values out of the 7000"
   ]
  },
  {
   "cell_type": "code",
   "execution_count": 63,
   "id": "59a520f1",
   "metadata": {
    "scrolled": true
   },
   "outputs": [],
   "source": [
    "#1) start here df.total_charges = df.total_charges.str.strip()\n",
    "# Then 2) df = df[df.total_charges != \"\"]\n",
    "# Finally 3) df.total_charges = df.total_charges.astype(float)"
   ]
  },
  {
   "cell_type": "markdown",
   "id": "ab610540",
   "metadata": {},
   "source": [
    "#Ryan's help:\n",
    "\n",
    "1) start here df.total_charges = df.total_charges.str.strip()\n",
    "\n",
    "Then 2) df = df[df.total_charges != \"\"]\n",
    "\n",
    " Finally 3) df.total_charges = df.total_charges.astype(float)"
   ]
  },
  {
   "cell_type": "code",
   "execution_count": null,
   "id": "65fa7308",
   "metadata": {},
   "outputs": [],
   "source": [
    "# Joshua\n",
    "# telco_churn['TotalCharges'] = telco_churn.TotalCharges.str.strip().str.replace(['', np.inf, -np.inf], np.nan).dropna()"
   ]
  },
  {
   "cell_type": "code",
   "execution_count": 56,
   "id": "5e075b00",
   "metadata": {
    "scrolled": true
   },
   "outputs": [],
   "source": [
    "telco_churn = telco_churn[telco_churn['TotalCharges'] != '']"
   ]
  },
  {
   "cell_type": "code",
   "execution_count": 64,
   "id": "c9268c3a",
   "metadata": {},
   "outputs": [],
   "source": [
    "telco_churn['TotalCharges'] = telco_churn['TotalCharges'].astype(float)"
   ]
  },
  {
   "cell_type": "code",
   "execution_count": 65,
   "id": "d0999743",
   "metadata": {},
   "outputs": [
    {
     "data": {
      "text/plain": [
       "7032"
      ]
     },
     "execution_count": 65,
     "metadata": {},
     "output_type": "execute_result"
    }
   ],
   "source": [
    "len(telco_churn)"
   ]
  },
  {
   "cell_type": "code",
   "execution_count": 66,
   "id": "55aa4b59",
   "metadata": {
    "scrolled": true
   },
   "outputs": [
    {
     "data": {
      "text/plain": [
       "20.20      11\n",
       "19.75       9\n",
       "20.05       8\n",
       "19.65       8\n",
       "19.90       8\n",
       "           ..\n",
       "6424.70     1\n",
       "1474.35     1\n",
       "6668.35     1\n",
       "6096.90     1\n",
       "5867.00     1\n",
       "Name: TotalCharges, Length: 6530, dtype: int64"
      ]
     },
     "execution_count": 66,
     "metadata": {},
     "output_type": "execute_result"
    }
   ],
   "source": [
    "telco_churn['TotalCharges'].value_counts()"
   ]
  },
  {
   "cell_type": "code",
   "execution_count": 67,
   "id": "c66cc1e7",
   "metadata": {},
   "outputs": [
    {
     "data": {
      "text/plain": [
       "<AxesSubplot:>"
      ]
     },
     "execution_count": 67,
     "metadata": {},
     "output_type": "execute_result"
    },
    {
     "data": {
      "image/png": "[encoded data removed]",
      "text/plain": [
       "<Figure size 432x288 with 1 Axes>"
      ]
     },
     "metadata": {
      "needs_background": "light"
     },
     "output_type": "display_data"
    }
   ],
   "source": [
    "telco_churn['TotalCharges'].hist()"
   ]
  },
  {
   "cell_type": "code",
   "execution_count": 68,
   "id": "d50ca5ce",
   "metadata": {
    "scrolled": true
   },
   "outputs": [
    {
     "data": {
      "text/plain": [
       "5138252.40705357"
      ]
     },
     "execution_count": 68,
     "metadata": {},
     "output_type": "execute_result"
    }
   ],
   "source": [
    "telco_churn['TotalCharges'].var()"
   ]
  },
  {
   "cell_type": "code",
   "execution_count": 69,
   "id": "def7d540",
   "metadata": {},
   "outputs": [
    {
     "data": {
      "text/plain": [
       "(0.8258804609332093, 0.0)"
      ]
     },
     "execution_count": 69,
     "metadata": {},
     "output_type": "execute_result"
    }
   ],
   "source": [
    "x= telco_churn['tenure']\n",
    "y= telco_churn['MonthlyCharges']\n",
    "alpha = 0.05\n",
    "\n",
    "corr, p = stats.pearsonr(telco_churn['tenure'], telco_churn['TotalCharges'])\n",
    "corr, p"
   ]
  },
  {
   "cell_type": "code",
   "execution_count": 70,
   "id": "2356b20a",
   "metadata": {},
   "outputs": [
    {
     "name": "stdout",
     "output_type": "stream",
     "text": [
      "We are rejecting our Null Hypothesis\n"
     ]
    }
   ],
   "source": [
    "if p < alpha:\n",
    "    print(\"We are rejecting our Null Hypothesis\")\n",
    "else:\n",
    "    print(\"We are failing to reject our Null Hypothesis\")"
   ]
  },
  {
   "cell_type": "code",
   "execution_count": null,
   "id": "0792867f",
   "metadata": {},
   "outputs": [],
   "source": []
  },
  {
   "cell_type": "markdown",
   "id": "850c0fd7",
   "metadata": {},
   "source": [
    "### What happens if you control for phone and Total Charges?"
   ]
  },
  {
   "cell_type": "markdown",
   "id": "93a570b5",
   "metadata": {},
   "source": [
    "Ho = Tenure with phone service does not correlate with Total Charges\n",
    "\n",
    "Ha = Tenure with phone service does correlate with Total Charges"
   ]
  },
  {
   "cell_type": "code",
   "execution_count": 73,
   "id": "c5836c9b",
   "metadata": {},
   "outputs": [],
   "source": [
    "no_phone = telco_churn[telco_churn.PhoneService == \"No\"]\n",
    "phone_cust = telco_churn[telco_churn.PhoneService == \"Yes\"]\n",
    "#tenure and totalcharges with no phone\n",
    "totalcharges_nophone = no_phone['tenure']\n",
    "tenure_nophone = no_phone['TotalCharges']"
   ]
  },
  {
   "cell_type": "code",
   "execution_count": 76,
   "id": "106c76c2",
   "metadata": {},
   "outputs": [
    {
     "data": {
      "text/plain": [
       "(0.9534228506954507, 0.0)"
      ]
     },
     "execution_count": 76,
     "metadata": {},
     "output_type": "execute_result"
    }
   ],
   "source": [
    "corr, p = stats.pearsonr(tenure_nophone, totalcharges_nophone)\n",
    "corr, p"
   ]
  },
  {
   "cell_type": "code",
   "execution_count": 78,
   "id": "08b79399",
   "metadata": {},
   "outputs": [
    {
     "name": "stdout",
     "output_type": "stream",
     "text": [
      "We are rejecting our Null Hypothesis\n"
     ]
    }
   ],
   "source": [
    "if p < alpha:\n",
    "    print(\"We are rejecting our Null Hypothesis\")\n",
    "else:\n",
    "    print(\"We are failing to reject our Null Hypothesis\")"
   ]
  },
  {
   "cell_type": "markdown",
   "id": "c918823f",
   "metadata": {},
   "source": [
    "### What happens if you control for internet and Total Charges?\n"
   ]
  },
  {
   "cell_type": "markdown",
   "id": "c630628e",
   "metadata": {},
   "source": [
    "Ho = Tenure with internet does not correlate with Total Charges\n",
    "\n",
    "Ha = Tenure with internet does correlate with Total Charges"
   ]
  },
  {
   "cell_type": "code",
   "execution_count": 81,
   "id": "98627a94",
   "metadata": {},
   "outputs": [
    {
     "data": {
      "text/plain": [
       "Fiber optic    3096\n",
       "DSL            2416\n",
       "No             1520\n",
       "Name: InternetService, dtype: int64"
      ]
     },
     "execution_count": 81,
     "metadata": {},
     "output_type": "execute_result"
    }
   ],
   "source": [
    "#Tenure vs. Internet Service\n",
    "telco_churn['InternetService'].value_counts()"
   ]
  },
  {
   "cell_type": "code",
   "execution_count": 97,
   "id": "bfd5dd71",
   "metadata": {},
   "outputs": [],
   "source": [
    "telco_internet = telco_churn[telco_churn.InternetService != \"No\"]\n",
    "no_internet = telco_churn[telco_churn.InternetService == \"No\"]"
   ]
  },
  {
   "cell_type": "code",
   "execution_count": 99,
   "id": "ed234139",
   "metadata": {},
   "outputs": [],
   "source": [
    "totalcharges_internet = telco_internet['TotalCharges']\n",
    "tenure_internet = telco_internet['tenure']"
   ]
  },
  {
   "cell_type": "code",
   "execution_count": 103,
   "id": "90f61782",
   "metadata": {},
   "outputs": [
    {
     "data": {
      "text/plain": [
       "(0.931934618741813, 0.0)"
      ]
     },
     "execution_count": 103,
     "metadata": {},
     "output_type": "execute_result"
    }
   ],
   "source": [
    "corr, p = stats.pearsonr(tenure_internet, totalcharges_internet)\n",
    "corr, p"
   ]
  },
  {
   "cell_type": "code",
   "execution_count": 104,
   "id": "71cdfdb4",
   "metadata": {},
   "outputs": [
    {
     "name": "stdout",
     "output_type": "stream",
     "text": [
      "We are rejecting our Null Hypothesis\n"
     ]
    }
   ],
   "source": [
    "if p < alpha:\n",
    "    print(\"We are rejecting our Null Hypothesis\")\n",
    "else:\n",
    "    print(\"We are failing to reject our Null Hypothesis\")"
   ]
  },
  {
   "cell_type": "markdown",
   "id": "d93ceeba",
   "metadata": {},
   "source": [
    "### No Internet\n",
    "\n",
    "Ho = Tenure with NO internet does not correlate with Total Charges\n",
    "\n",
    "Ha = Tenure with NO internet does correlate with Total Charges"
   ]
  },
  {
   "cell_type": "code",
   "execution_count": 108,
   "id": "92d100b6",
   "metadata": {},
   "outputs": [
    {
     "data": {
      "text/plain": [
       "(0.9814648859044319, 0.0)"
      ]
     },
     "execution_count": 108,
     "metadata": {},
     "output_type": "execute_result"
    }
   ],
   "source": [
    "totalcharges_no_internet = no_internet['TotalCharges']\n",
    "tenure_no_internet = no_internet['tenure']\n",
    "\n",
    "corr, p = stats.pearsonr(tenure_no_internet, totalcharges_no_internet)\n",
    "corr, p"
   ]
  },
  {
   "cell_type": "code",
   "execution_count": 109,
   "id": "e392dfbb",
   "metadata": {},
   "outputs": [
    {
     "name": "stdout",
     "output_type": "stream",
     "text": [
      "We are rejecting our Null Hypothesis\n"
     ]
    }
   ],
   "source": [
    "if p < alpha:\n",
    "    print(\"We are rejecting our Null Hypothesis\")\n",
    "else:\n",
    "    print(\"We are failing to reject our Null Hypothesis\")"
   ]
  },
  {
   "cell_type": "markdown",
   "id": "bf11c0dd",
   "metadata": {},
   "source": [
    "### 2. Use the employees database.\n",
    "- Is there a relationship between how long an employee has been with the company and their salary?\n",
    "- Is there a relationship between how long an employee has been with the company and the number of titles they have had?"
   ]
  },
  {
   "cell_type": "code",
   "execution_count": 114,
   "id": "e3c9750f",
   "metadata": {},
   "outputs": [],
   "source": [
    "from env import host, user, password\n"
   ]
  },
  {
   "cell_type": "code",
   "execution_count": 115,
   "id": "7e7c933a",
   "metadata": {},
   "outputs": [],
   "source": [
    "def get_db_url(user,password,host,database):\n",
    "    return (f\"mysql+pymysql://{user}:{password}@{host}/{database}\")\n"
   ]
  },
  {
   "cell_type": "code",
   "execution_count": 116,
   "id": "daabf69e",
   "metadata": {},
   "outputs": [],
   "source": [
    "url = get_db_url(user,password,host,database = \"employees\")\n"
   ]
  },
  {
   "cell_type": "code",
   "execution_count": 117,
   "id": "e551bf79",
   "metadata": {},
   "outputs": [
    {
     "data": {
      "text/html": [
       "<div>\n",
       "<style scoped>\n",
       "    .dataframe tbody tr th:only-of-type {\n",
       "        vertical-align: middle;\n",
       "    }\n",
       "\n",
       "    .dataframe tbody tr th {\n",
       "        vertical-align: top;\n",
       "    }\n",
       "\n",
       "    .dataframe thead th {\n",
       "        text-align: right;\n",
       "    }\n",
       "</style>\n",
       "<table border=\"1\" class=\"dataframe\">\n",
       "  <thead>\n",
       "    <tr style=\"text-align: right;\">\n",
       "      <th></th>\n",
       "      <th>emp_no</th>\n",
       "      <th>hire_date</th>\n",
       "      <th>salary</th>\n",
       "      <th>to_date</th>\n",
       "    </tr>\n",
       "  </thead>\n",
       "  <tbody>\n",
       "    <tr>\n",
       "      <th>0</th>\n",
       "      <td>10001</td>\n",
       "      <td>1986-06-26</td>\n",
       "      <td>60117</td>\n",
       "      <td>1987-06-26</td>\n",
       "    </tr>\n",
       "    <tr>\n",
       "      <th>1</th>\n",
       "      <td>10001</td>\n",
       "      <td>1986-06-26</td>\n",
       "      <td>62102</td>\n",
       "      <td>1988-06-25</td>\n",
       "    </tr>\n",
       "    <tr>\n",
       "      <th>2</th>\n",
       "      <td>10001</td>\n",
       "      <td>1986-06-26</td>\n",
       "      <td>66074</td>\n",
       "      <td>1989-06-25</td>\n",
       "    </tr>\n",
       "    <tr>\n",
       "      <th>3</th>\n",
       "      <td>10001</td>\n",
       "      <td>1986-06-26</td>\n",
       "      <td>66596</td>\n",
       "      <td>1990-06-25</td>\n",
       "    </tr>\n",
       "    <tr>\n",
       "      <th>4</th>\n",
       "      <td>10001</td>\n",
       "      <td>1986-06-26</td>\n",
       "      <td>66961</td>\n",
       "      <td>1991-06-25</td>\n",
       "    </tr>\n",
       "  </tbody>\n",
       "</table>\n",
       "</div>"
      ],
      "text/plain": [
       "   emp_no   hire_date  salary     to_date\n",
       "0   10001  1986-06-26   60117  1987-06-26\n",
       "1   10001  1986-06-26   62102  1988-06-25\n",
       "2   10001  1986-06-26   66074  1989-06-25\n",
       "3   10001  1986-06-26   66596  1990-06-25\n",
       "4   10001  1986-06-26   66961  1991-06-25"
      ]
     },
     "execution_count": 117,
     "metadata": {},
     "output_type": "execute_result"
    }
   ],
   "source": [
    "query = '''\n",
    "SELECT employees.emp_no, hire_date, salary, to_date\n",
    "FROM employees\n",
    "JOIN salaries ON salaries.emp_no = employees.emp_no;\n",
    "'''\n",
    "df = pd.read_sql(query,url)\n",
    "df.head()"
   ]
  },
  {
   "cell_type": "markdown",
   "id": "3c723b96",
   "metadata": {},
   "source": [
    "### - Is there a relationship between how long an employee has been with the company and their salary?"
   ]
  },
  {
   "cell_type": "code",
   "execution_count": 119,
   "id": "b129f898",
   "metadata": {},
   "outputs": [
    {
     "name": "stdout",
     "output_type": "stream",
     "text": [
      "<class 'pandas.core.frame.DataFrame'>\n",
      "RangeIndex: 2844047 entries, 0 to 2844046\n",
      "Data columns (total 4 columns):\n",
      " #   Column     Dtype \n",
      "---  ------     ----- \n",
      " 0   emp_no     int64 \n",
      " 1   hire_date  object\n",
      " 2   salary     int64 \n",
      " 3   to_date    object\n",
      "dtypes: int64(2), object(2)\n",
      "memory usage: 86.8+ MB\n"
     ]
    }
   ],
   "source": [
    "df.info()"
   ]
  },
  {
   "cell_type": "code",
   "execution_count": 132,
   "id": "2b5696ce",
   "metadata": {},
   "outputs": [],
   "source": [
    "# I need to create a new column for \"tenure\"\n",
    "# write "
   ]
  },
  {
   "cell_type": "code",
   "execution_count": 129,
   "id": "7634fa48",
   "metadata": {},
   "outputs": [
    {
     "data": {
      "text/plain": [
       "9999-01-01    240124\n",
       "1998-10-25      1034\n",
       "1997-10-26       872\n",
       "2002-04-03       821\n",
       "2000-08-26       815\n",
       "2000-03-29       793\n",
       "2000-07-11       789\n",
       "2000-12-03       788\n",
       "2000-03-31       787\n",
       "2001-08-26       787\n",
       "Name: to_date, dtype: int64"
      ]
     },
     "execution_count": 129,
     "metadata": {},
     "output_type": "execute_result"
    }
   ],
   "source": [
    "df['to_date'].value_counts(ascending = False).head(10)"
   ]
  },
  {
   "cell_type": "code",
   "execution_count": 130,
   "id": "aa2a305d",
   "metadata": {},
   "outputs": [
    {
     "data": {
      "text/plain": [
       "2844046    9999-01-01\n",
       "1918806    9999-01-01\n",
       "1918702    9999-01-01\n",
       "1918720    9999-01-01\n",
       "1918734    9999-01-01\n",
       "424040     9999-01-01\n",
       "1918747    9999-01-01\n",
       "1918752    9999-01-01\n",
       "1918777    9999-01-01\n",
       "424023     9999-01-01\n",
       "Name: to_date, dtype: object"
      ]
     },
     "execution_count": 130,
     "metadata": {},
     "output_type": "execute_result"
    }
   ],
   "source": []
  },
  {
   "cell_type": "code",
   "execution_count": null,
   "id": "016596b8",
   "metadata": {},
   "outputs": [],
   "source": []
  },
  {
   "cell_type": "code",
   "execution_count": null,
   "id": "98fcfbe7",
   "metadata": {},
   "outputs": [],
   "source": []
  },
  {
   "cell_type": "markdown",
   "id": "d7eefa35",
   "metadata": {},
   "source": [
    "### 3. Use the sleepstudy data. Is there a relationship between days and reaction time?"
   ]
  },
  {
   "cell_type": "code",
   "execution_count": null,
   "id": "09607264",
   "metadata": {},
   "outputs": [],
   "source": [
    "from pydataset import data\n",
    "df = data(\"sleepstudy\")\n",
    "df.head()\n"
   ]
  },
  {
   "cell_type": "code",
   "execution_count": null,
   "id": "21310c9b",
   "metadata": {},
   "outputs": [],
   "source": []
  },
  {
   "cell_type": "code",
   "execution_count": null,
   "id": "245b3b20",
   "metadata": {},
   "outputs": [],
   "source": []
  },
  {
   "cell_type": "code",
   "execution_count": null,
   "id": "0aac868a",
   "metadata": {},
   "outputs": [],
   "source": []
  }
 ],
 "metadata": {
  "kernelspec": {
   "display_name": "Python 3",
   "language": "python",
   "name": "python3"
  },
  "language_info": {
   "codemirror_mode": {
    "name": "ipython",
    "version": 3
   },
   "file_extension": ".py",
   "mimetype": "text/x-python",
   "name": "python",
   "nbconvert_exporter": "python",
   "pygments_lexer": "ipython3",
   "version": "3.8.8"
  }
 },
 "nbformat": 4,
 "nbformat_minor": 5
}
