{
 "cells": [
  {
   "cell_type": "code",
   "execution_count": 1,
   "id": "71067c4b",
   "metadata": {},
   "outputs": [],
   "source": [
    "import matplotlib.pyplot as plt\n",
    "import numpy as np\n",
    "import pandas as pd\n",
    "from scipy import stats\n",
    "np.random.seed(123)"
   ]
  },
  {
   "cell_type": "markdown",
   "id": "d8a22b78",
   "metadata": {},
   "source": [
    "### 1. A bank found that the average number of cars waiting during the noon hour at a drive-up window follows a Poisson distribution with a mean of 2 cars. Make a chart of this distribution and answer these questions concerning the probability of cars waiting at the drive-up window.\n"
   ]
  },
  {
   "cell_type": "code",
   "execution_count": null,
   "id": "92f7177e",
   "metadata": {},
   "outputs": [],
   "source": []
  },
  {
   "cell_type": "code",
   "execution_count": 5,
   "id": "5a37416a",
   "metadata": {},
   "outputs": [
    {
     "data": {
      "image/png": "[encoded data removed]",
      "text/plain": [
       "<Figure size 432x288 with 1 Axes>"
      ]
     },
     "metadata": {
      "needs_background": "light"
     },
     "output_type": "display_data"
    }
   ],
   "source": [
    "#rvs random values\n",
    "driveup = stats.poisson(2)\n",
    "n = 100\n",
    "x = driveup.rvs(n)\n",
    "\n",
    "plt.hist(x, bins=range(0,10), align='left', width=1, edgecolor = 'black')\n",
    "plt.title(\"Bank Drive Up\");\n"
   ]
  },
  {
   "cell_type": "code",
   "execution_count": 9,
   "id": "ee549fa9",
   "metadata": {},
   "outputs": [
    {
     "data": {
      "image/png": "[encoded data removed]",
      "text/plain": [
       "<Figure size 432x288 with 1 Axes>"
      ]
     },
     "metadata": {
      "needs_background": "light"
     },
     "output_type": "display_data"
    }
   ],
   "source": [
    "## Ravinders\n",
    "\n",
    "q = 2\n",
    "\n",
    "x = np.arange(0,12)\n",
    "y = stats.poisson(λ).pmf(x)\n",
    "\n",
    "plt.bar(x,y)\n",
    "plt.title('Poisson distribution with $q = 2$')\n",
    "plt.xlabel('Number of cars')\n",
    "plt.ylabel('P(X)');"
   ]
  },
  {
   "cell_type": "markdown",
   "id": "c821da36",
   "metadata": {},
   "source": [
    "### 1.a)What is the probability that no cars drive up in the noon hour?\n"
   ]
  },
  {
   "cell_type": "code",
   "execution_count": 8,
   "id": "52344e8c",
   "metadata": {},
   "outputs": [
    {
     "data": {
      "text/plain": [
       "0.1353352832366127"
      ]
     },
     "execution_count": 8,
     "metadata": {},
     "output_type": "execute_result"
    }
   ],
   "source": [
    "#specific value - discrete\n",
    "driveup.pmf(0)"
   ]
  },
  {
   "cell_type": "code",
   "execution_count": 11,
   "id": "a6342f9f",
   "metadata": {},
   "outputs": [
    {
     "data": {
      "text/plain": [
       "0.1353352832366127"
      ]
     },
     "execution_count": 11,
     "metadata": {},
     "output_type": "execute_result"
    }
   ],
   "source": [
    "stats.poisson(q).pmf(0)"
   ]
  },
  {
   "cell_type": "markdown",
   "id": "b503c6f5",
   "metadata": {},
   "source": [
    "### 1b) What is the probability that 3 or more cars come through the drive through?\n"
   ]
  },
  {
   "cell_type": "code",
   "execution_count": 12,
   "id": "f50dbd41",
   "metadata": {},
   "outputs": [
    {
     "data": {
      "text/plain": [
       "0.32332358381693654"
      ]
     },
     "execution_count": 12,
     "metadata": {},
     "output_type": "execute_result"
    }
   ],
   "source": [
    "#greater than a continious point\n",
    "#remember that it is greater than but not inclusive\n",
    "driveup.sf(2)"
   ]
  },
  {
   "cell_type": "markdown",
   "id": "a6e6c992",
   "metadata": {},
   "source": [
    "### 1c)How likely is it that the drive through gets at least 1 car?"
   ]
  },
  {
   "cell_type": "code",
   "execution_count": 13,
   "id": "88a22c08",
   "metadata": {},
   "outputs": [
    {
     "data": {
      "text/plain": [
       "0.8646647167633873"
      ]
     },
     "execution_count": 13,
     "metadata": {},
     "output_type": "execute_result"
    }
   ],
   "source": [
    "# have the value want the probability \n",
    "\n",
    "driveup.sf(0)"
   ]
  },
  {
   "cell_type": "code",
   "execution_count": null,
   "id": "8e3de527",
   "metadata": {},
   "outputs": [],
   "source": []
  },
  {
   "cell_type": "markdown",
   "id": "1b31fd26",
   "metadata": {},
   "source": [
    "### 2. Grades of State University graduates are normally distributed with a mean of 3.0 and a standard deviation of .3. Calculate the following:\n"
   ]
  },
  {
   "cell_type": "code",
   "execution_count": 14,
   "id": "7038b530",
   "metadata": {},
   "outputs": [],
   "source": [
    "n_simulations = 10_000\n",
    "average_grade = 3 \n",
    "standard_deviation = .3"
   ]
  },
  {
   "cell_type": "code",
   "execution_count": 15,
   "id": "efde5d8e",
   "metadata": {},
   "outputs": [
    {
     "data": {
      "text/plain": [
       "<scipy.stats._distn_infrastructure.rv_frozen at 0x7fb288ca4850>"
      ]
     },
     "execution_count": 15,
     "metadata": {},
     "output_type": "execute_result"
    }
   ],
   "source": [
    "#stats.norm = standard normal distribution\n",
    "grades = stats.norm(3, .3)\n",
    "\n",
    "#random values of simulation\n",
    "grades\n",
    "# grades = grades.rvs(n_simulations)\n",
    "# grades"
   ]
  },
  {
   "cell_type": "markdown",
   "id": "41ab8f0c",
   "metadata": {},
   "source": [
    "### 2a) What grade point average is required to be in the top 5% of the graduating class?\n"
   ]
  },
  {
   "cell_type": "code",
   "execution_count": 16,
   "id": "6c5aebea",
   "metadata": {},
   "outputs": [
    {
     "data": {
      "text/plain": [
       "3.4934560880854417"
      ]
     },
     "execution_count": 16,
     "metadata": {},
     "output_type": "execute_result"
    }
   ],
   "source": [
    "#I have probability and want the value = .isf\n",
    "\n",
    "grades.isf(.05)"
   ]
  },
  {
   "cell_type": "markdown",
   "id": "91ab1cf2",
   "metadata": {},
   "source": [
    "### 2b) What GPA constitutes the bottom 15% of the class?\n"
   ]
  },
  {
   "cell_type": "code",
   "execution_count": 17,
   "id": "7643f93d",
   "metadata": {},
   "outputs": [
    {
     "data": {
      "text/plain": [
       "2.689069983151863"
      ]
     },
     "execution_count": 17,
     "metadata": {},
     "output_type": "execute_result"
    }
   ],
   "source": [
    "#we have the probability and want the value\n",
    "grades.ppf(.15)"
   ]
  },
  {
   "cell_type": "markdown",
   "id": "5012d21c",
   "metadata": {},
   "source": [
    "### 2c) If I have a GPA of 3.5, what percentile am I in?"
   ]
  },
  {
   "cell_type": "code",
   "execution_count": 18,
   "id": "ef0d40e2",
   "metadata": {},
   "outputs": [
    {
     "data": {
      "text/plain": [
       "0.9522096477271853"
      ]
     },
     "execution_count": 18,
     "metadata": {},
     "output_type": "execute_result"
    }
   ],
   "source": [
    "#we have the value and want the probability\n",
    "\n",
    "grades.cdf(3.5) #-thats not percentile need opposite"
   ]
  },
  {
   "cell_type": "code",
   "execution_count": 19,
   "id": "3cbe5ae0",
   "metadata": {},
   "outputs": [
    {
     "data": {
      "text/plain": [
       "0.0477903522728147"
      ]
     },
     "execution_count": 19,
     "metadata": {},
     "output_type": "execute_result"
    }
   ],
   "source": [
    "grades.sf(3.5) #greater than given point"
   ]
  },
  {
   "cell_type": "code",
   "execution_count": 20,
   "id": "59a94a53",
   "metadata": {},
   "outputs": [
    {
     "data": {
      "text/plain": [
       "3.4934560880854417"
      ]
     },
     "execution_count": 20,
     "metadata": {},
     "output_type": "execute_result"
    }
   ],
   "source": [
    "#Ravinder's:\n",
    "stats.norm(3, 0.3).isf(0.05)"
   ]
  },
  {
   "cell_type": "code",
   "execution_count": 21,
   "id": "87e19c44",
   "metadata": {},
   "outputs": [
    {
     "data": {
      "text/plain": [
       "2.689069983151863"
      ]
     },
     "execution_count": 21,
     "metadata": {},
     "output_type": "execute_result"
    }
   ],
   "source": [
    "stats.norm(3,0.3).ppf(0.15)"
   ]
  },
  {
   "cell_type": "code",
   "execution_count": 22,
   "id": "bd916334",
   "metadata": {},
   "outputs": [
    {
     "data": {
      "text/plain": [
       "array([2.74751363, 2.84267985])"
      ]
     },
     "execution_count": 22,
     "metadata": {},
     "output_type": "execute_result"
    }
   ],
   "source": [
    "stats.norm(3,0.3).ppf([0.2,0.3])"
   ]
  },
  {
   "cell_type": "code",
   "execution_count": 23,
   "id": "fbef8472",
   "metadata": {},
   "outputs": [
    {
     "data": {
      "text/plain": [
       "0.9522096477271853"
      ]
     },
     "execution_count": 23,
     "metadata": {},
     "output_type": "execute_result"
    }
   ],
   "source": [
    "stats.norm(3,0.3).cdf(3.5)"
   ]
  },
  {
   "cell_type": "markdown",
   "id": "83ac1fd6",
   "metadata": {},
   "source": [
    "### 2c)An eccentric alumnus left scholarship money for students in the third decile from the bottom of their class. Determine the range of the third decile. Would a student with a 2.8 grade point average qualify for this scholarship?\n"
   ]
  },
  {
   "cell_type": "code",
   "execution_count": 24,
   "id": "57f10f8a",
   "metadata": {},
   "outputs": [
    {
     "data": {
      "text/plain": [
       "2.7475136299281258"
      ]
     },
     "execution_count": 24,
     "metadata": {},
     "output_type": "execute_result"
    }
   ],
   "source": [
    "#3rd decile .2 - .3 \n",
    "#have probability and want value\n",
    "grades.ppf(.2)"
   ]
  },
  {
   "cell_type": "code",
   "execution_count": 25,
   "id": "4d0bb4d4",
   "metadata": {},
   "outputs": [
    {
     "data": {
      "text/plain": [
       "2.842679846187588"
      ]
     },
     "execution_count": 25,
     "metadata": {},
     "output_type": "execute_result"
    }
   ],
   "source": [
    "grades.ppf(.3)"
   ]
  },
  {
   "cell_type": "code",
   "execution_count": 27,
   "id": "800bd727",
   "metadata": {},
   "outputs": [],
   "source": [
    "#the student with 2.8 falls between 2.74 & 2.84"
   ]
  },
  {
   "cell_type": "code",
   "execution_count": null,
   "id": "3794917e",
   "metadata": {},
   "outputs": [],
   "source": []
  },
  {
   "cell_type": "code",
   "execution_count": 29,
   "id": "06642fb5",
   "metadata": {},
   "outputs": [
    {
     "data": {
      "text/plain": [
       "0.9522096477271853"
      ]
     },
     "execution_count": 29,
     "metadata": {},
     "output_type": "execute_result"
    }
   ],
   "source": [
    "# If I have a GPA of 3.5, what percentile am I in?\n",
    "stats.norm(3, 0.3).cdf(3.5)"
   ]
  },
  {
   "cell_type": "code",
   "execution_count": 31,
   "id": "0d383a52",
   "metadata": {},
   "outputs": [
    {
     "data": {
      "text/plain": [
       "0.95191"
      ]
     },
     "execution_count": 31,
     "metadata": {},
     "output_type": "execute_result"
    }
   ],
   "source": [
    "\n",
    "# by Simulation\n",
    "(np.random.normal(3, 0.3, 100_000) < 3.5).mean()"
   ]
  },
  {
   "cell_type": "markdown",
   "id": "37b4a82e",
   "metadata": {},
   "source": [
    "### 3. A marketing website has an average click-through rate of 2%. One day they observe 4326 visitors and 97 click-throughs. How likely is it that this many people or more click through?\n",
    "\n"
   ]
  },
  {
   "cell_type": "code",
   "execution_count": 32,
   "id": "28f61b32",
   "metadata": {},
   "outputs": [],
   "source": [
    "rate = .02\n",
    "value = 97\n",
    "n_simulations = 4326\n",
    "\n",
    "#determine the probability of this happening - binom \n",
    "#we know the value and need probability\n",
    "#(trials, success rate).(number of success)"
   ]
  },
  {
   "cell_type": "code",
   "execution_count": 33,
   "id": "75a858cd",
   "metadata": {},
   "outputs": [
    {
     "data": {
      "text/plain": [
       "0.1397582363130086"
      ]
     },
     "execution_count": 33,
     "metadata": {},
     "output_type": "execute_result"
    }
   ],
   "source": [
    "stats.binom(4326,.02).sf(96)"
   ]
  },
  {
   "cell_type": "code",
   "execution_count": 34,
   "id": "b0399db0",
   "metadata": {},
   "outputs": [
    {
     "data": {
      "text/plain": [
       "array([[0, 0, 0, ..., 0, 0, 0],\n",
       "       [0, 1, 0, ..., 0, 0, 0],\n",
       "       [0, 0, 0, ..., 0, 0, 0],\n",
       "       ...,\n",
       "       [0, 0, 0, ..., 0, 0, 0],\n",
       "       [0, 0, 0, ..., 0, 0, 0],\n",
       "       [0, 0, 0, ..., 0, 0, 0]])"
      ]
     },
     "execution_count": 34,
     "metadata": {},
     "output_type": "execute_result"
    }
   ],
   "source": [
    "#using simulation - ravinders\n",
    "\n",
    "clicks= np.random.choice([0,1], size=(10_000, 4326), p=(0.98,0.02))\n",
    "clicks"
   ]
  },
  {
   "cell_type": "code",
   "execution_count": 35,
   "id": "62d40909",
   "metadata": {},
   "outputs": [
    {
     "data": {
      "text/plain": [
       "0.1347"
      ]
     },
     "execution_count": 35,
     "metadata": {},
     "output_type": "execute_result"
    }
   ],
   "source": [
    "(clicks.sum(axis=1) >= 97).mean()"
   ]
  },
  {
   "cell_type": "code",
   "execution_count": null,
   "id": "483ddf8f",
   "metadata": {},
   "outputs": [],
   "source": []
  },
  {
   "cell_type": "code",
   "execution_count": 36,
   "id": "8aab4cb6",
   "metadata": {},
   "outputs": [
    {
     "data": {
      "text/plain": [
       "0.1397582363130086"
      ]
     },
     "execution_count": 36,
     "metadata": {},
     "output_type": "execute_result"
    }
   ],
   "source": [
    "n = 4326\n",
    "p= 0.02\n",
    "\n",
    "stats.binom(n, p).sf(96)"
   ]
  },
  {
   "cell_type": "code",
   "execution_count": 38,
   "id": "e286b70c",
   "metadata": {},
   "outputs": [
    {
     "data": {
      "text/plain": [
       "array([[0, 0, 0, ..., 0, 0, 0],\n",
       "       [0, 0, 0, ..., 0, 0, 0],\n",
       "       [0, 0, 0, ..., 0, 0, 0],\n",
       "       ...,\n",
       "       [0, 0, 0, ..., 0, 0, 0],\n",
       "       [0, 0, 0, ..., 0, 0, 0],\n",
       "       [0, 0, 0, ..., 0, 0, 0]])"
      ]
     },
     "execution_count": 38,
     "metadata": {},
     "output_type": "execute_result"
    }
   ],
   "source": [
    "clicks = np.random.choice([0,1], size=(10_000, 4326), p=(0.98, 0.02))\n",
    "clicks"
   ]
  },
  {
   "cell_type": "code",
   "execution_count": 39,
   "id": "20f5f100",
   "metadata": {},
   "outputs": [
    {
     "data": {
      "text/plain": [
       "0.1423"
      ]
     },
     "execution_count": 39,
     "metadata": {},
     "output_type": "execute_result"
    }
   ],
   "source": [
    "(clicks.sum(axis=1) >= 97).mean()"
   ]
  },
  {
   "cell_type": "code",
   "execution_count": null,
   "id": "3a048c04",
   "metadata": {},
   "outputs": [],
   "source": []
  },
  {
   "cell_type": "markdown",
   "id": "2dedadee",
   "metadata": {},
   "source": [
    "### 4. You are working on some statistics homework consisting of 100 questions where all of the answers are a probability rounded to the hundreths place. Looking to save time, you put down random probabilities as the answer to each question.\n",
    "\n",
    "- What is the probability that at least one of your first 60 answers is correct?"
   ]
  },
  {
   "cell_type": "code",
   "execution_count": 40,
   "id": "8b2d9fa0",
   "metadata": {},
   "outputs": [
    {
     "data": {
      "text/plain": [
       "0.4528433576092388"
      ]
     },
     "execution_count": 40,
     "metadata": {},
     "output_type": "execute_result"
    }
   ],
   "source": [
    "#100 questions , .01 chance, that at least 1 of your first 60 is right\n",
    "\n",
    "test = stats.binom(60, .01)\n",
    "test.sf(0)"
   ]
  },
  {
   "cell_type": "code",
   "execution_count": 41,
   "id": "99e9393d",
   "metadata": {},
   "outputs": [
    {
     "data": {
      "text/plain": [
       "0.4528433576092388"
      ]
     },
     "execution_count": 41,
     "metadata": {},
     "output_type": "execute_result"
    }
   ],
   "source": [
    "#ravinder's\n",
    "n=60\n",
    "p=0.01\n",
    "stats.binom(n, p).sf(0)"
   ]
  },
  {
   "cell_type": "code",
   "execution_count": 45,
   "id": "82e88de4",
   "metadata": {},
   "outputs": [
    {
     "data": {
      "text/plain": [
       "0.45242"
      ]
     },
     "execution_count": 45,
     "metadata": {},
     "output_type": "execute_result"
    }
   ],
   "source": [
    "#by simulation:\n",
    "\n",
    "((np.random.choice([0,1], size=(100_000, 60), p = (0.99,0.01))).sum(axis=1) >0).mean()"
   ]
  },
  {
   "cell_type": "markdown",
   "id": "ec97ecb1",
   "metadata": {},
   "source": [
    "### 5. The codeup staff tends to get upset when the student break area is not cleaned up. Suppose that there's a 3% chance that any one student cleans the break area when they visit it, and, on any given day, about 90% of the 3 active cohorts of 22 students visit the break area. How likely is it that the break area gets cleaned up each day? How likely is it that it goes two days without getting cleaned up? All week?"
   ]
  },
  {
   "cell_type": "code",
   "execution_count": 46,
   "id": "75b8680f",
   "metadata": {},
   "outputs": [
    {
     "data": {
      "text/plain": [
       "0.8342199288437355"
      ]
     },
     "execution_count": 46,
     "metadata": {},
     "output_type": "execute_result"
    }
   ],
   "source": [
    "#.3 chance \n",
    "#.9 visit (2nd condition)\n",
    "#3*22\n",
    "\n",
    "break_area = stats.binom((66*.9),0.03)\n",
    "break_area.sf(0)"
   ]
  },
  {
   "cell_type": "code",
   "execution_count": 47,
   "id": "1163e318",
   "metadata": {},
   "outputs": [
    {
     "data": {
      "text/plain": [
       "0.8342199288437355"
      ]
     },
     "execution_count": 47,
     "metadata": {},
     "output_type": "execute_result"
    }
   ],
   "source": [
    "clean_rate = break_area.sf(0)\n",
    "clean_rate"
   ]
  },
  {
   "cell_type": "code",
   "execution_count": 48,
   "id": "41a1079d",
   "metadata": {},
   "outputs": [
    {
     "data": {
      "text/plain": [
       "0.027483031992576068"
      ]
     },
     "execution_count": 48,
     "metadata": {},
     "output_type": "execute_result"
    }
   ],
   "source": [
    "two_days = stats.binom(2,clean_rate).sf(0)\n",
    "1 - two_days"
   ]
  },
  {
   "cell_type": "code",
   "execution_count": 49,
   "id": "759cac8a",
   "metadata": {},
   "outputs": [
    {
     "data": {
      "text/plain": [
       "0.00012521651388086585"
      ]
     },
     "execution_count": 49,
     "metadata": {},
     "output_type": "execute_result"
    }
   ],
   "source": [
    "five_days = stats.binom(5,clean_rate).sf(0)\n",
    "1 - five_days"
   ]
  },
  {
   "cell_type": "code",
   "execution_count": 50,
   "id": "13b8faa1",
   "metadata": {},
   "outputs": [],
   "source": [
    "#Ravinder's"
   ]
  },
  {
   "cell_type": "code",
   "execution_count": 51,
   "id": "6a541307",
   "metadata": {},
   "outputs": [
    {
     "data": {
      "text/plain": [
       "0.8342199288437355"
      ]
     },
     "execution_count": 51,
     "metadata": {},
     "output_type": "execute_result"
    }
   ],
   "source": [
    "# How likely is it that the break area gets cleaned up each day?\n",
    "\n",
    "n = round(0.9 * 3 * 22)\n",
    "p = 0.03\n",
    "\n",
    "stats.binom(n, p).sf(0)"
   ]
  },
  {
   "cell_type": "code",
   "execution_count": 52,
   "id": "f8f7c225",
   "metadata": {},
   "outputs": [
    {
     "data": {
      "text/plain": [
       "Text(0.5, 0, 'Number of time area is cleaned per day')"
      ]
     },
     "execution_count": 52,
     "metadata": {},
     "output_type": "execute_result"
    },
    {
     "data": {
      "image/png": "[encoded data removed]",
      "text/plain": [
       "<Figure size 432x288 with 1 Axes>"
      ]
     },
     "metadata": {
      "needs_background": "light"
     },
     "output_type": "display_data"
    }
   ],
   "source": [
    "x = np.arange(0, 10)\n",
    "y = stats.binom(n,p).pmf(x)\n",
    "\n",
    "plt.bar(x, y)\n",
    "plt.xlabel('Number of time area is cleaned per day')"
   ]
  },
  {
   "cell_type": "markdown",
   "id": "308afd8e",
   "metadata": {},
   "source": [
    "### 6. You want to get lunch at La Panaderia, but notice that the line is usually very long at lunchtime. After several weeks of careful observation, you notice that the average number of people in line when your lunch break starts is normally distributed with a mean of 15 and standard deviation of 3. If it takes 2 minutes for each person to order, and 10 minutes from ordering to getting your food, what is the likelihood that you have at least 15 minutes left to eat your food before you have to go back to class? Assume you have one hour for lunch, and ignore travel time to and from La Panaderia."
   ]
  },
  {
   "cell_type": "code",
   "execution_count": 53,
   "id": "64f7d368",
   "metadata": {},
   "outputs": [],
   "source": [
    "#mean 15, std 3\n",
    "#2 minutes an order and 10 minutes to get your food\n",
    "mean_customers = 15\n",
    "std = 3\n",
    "\n",
    "order_time = 2\n",
    "wait_time = 10\n",
    "eat_time = 15\n",
    "lunch_break = 60"
   ]
  },
  {
   "cell_type": "code",
   "execution_count": 54,
   "id": "8bfb2230",
   "metadata": {},
   "outputs": [
    {
     "data": {
      "text/plain": [
       "35"
      ]
     },
     "execution_count": 54,
     "metadata": {},
     "output_type": "execute_result"
    }
   ],
   "source": [
    "60 - 15 - 10\n",
    "\n",
    "#I have 35 minutes for the line!"
   ]
  },
  {
   "cell_type": "code",
   "execution_count": 55,
   "id": "48d51204",
   "metadata": {},
   "outputs": [
    {
     "data": {
      "text/plain": [
       "<scipy.stats._distn_infrastructure.rv_frozen at 0x7fb288c94df0>"
      ]
     },
     "execution_count": 55,
     "metadata": {},
     "output_type": "execute_result"
    }
   ],
   "source": [
    "wait_time = stats.norm(15,3)\n",
    "wait_time\n",
    "\n",
    "### I Have the value and want the probability\n",
    "## my value is time greater than 35"
   ]
  },
  {
   "cell_type": "code",
   "execution_count": 56,
   "id": "5fbaf948",
   "metadata": {},
   "outputs": [
    {
     "data": {
      "text/plain": [
       "17.5"
      ]
     },
     "execution_count": 56,
     "metadata": {},
     "output_type": "execute_result"
    }
   ],
   "source": [
    "#what is the max customers I can wait for\n",
    "#so I only have 35 minutes and it takes 2 minutes a customer\n",
    "35/2"
   ]
  },
  {
   "cell_type": "code",
   "execution_count": 58,
   "id": "8cd31479",
   "metadata": {},
   "outputs": [
    {
     "data": {
      "text/plain": [
       "0.7475074624530771"
      ]
     },
     "execution_count": 58,
     "metadata": {},
     "output_type": "execute_result"
    }
   ],
   "source": [
    "wait_time.cdf(17)"
   ]
  },
  {
   "cell_type": "code",
   "execution_count": null,
   "id": "dc25a3f8",
   "metadata": {},
   "outputs": [],
   "source": []
  },
  {
   "cell_type": "code",
   "execution_count": 59,
   "id": "b3658247",
   "metadata": {},
   "outputs": [
    {
     "data": {
      "text/plain": [
       "0.6914624612740131"
      ]
     },
     "execution_count": 59,
     "metadata": {},
     "output_type": "execute_result"
    }
   ],
   "source": [
    "#if we include 2 min order time\n",
    "wait_time.cdf(33/2)"
   ]
  },
  {
   "cell_type": "markdown",
   "id": "ed52c2dc",
   "metadata": {},
   "source": [
    "### 7. Connect to the employees database and find the average salary of current employees, along with the standard deviation. For the following questions, calculate the answer based on modeling the employees salaries with a normal distribution defined by the calculated mean and standard deviation then compare this answer to the actual values present in the salaries dataset.\n",
    "\n",
    "- What percent of employees earn less than 60,000?\n",
    "- What percent of employees earn more than 95,000?\n",
    "- What percent of employees earn between 65,000 and 80,000?\n",
    "- What do the top 5% of employees make?\n"
   ]
  }
 ],
 "metadata": {
  "kernelspec": {
   "display_name": "Python 3",
   "language": "python",
   "name": "python3"
  },
  "language_info": {
   "codemirror_mode": {
    "name": "ipython",
    "version": 3
   },
   "file_extension": ".py",
   "mimetype": "text/x-python",
   "name": "python",
   "nbconvert_exporter": "python",
   "pygments_lexer": "ipython3",
   "version": "3.8.8"
  }
 },
 "nbformat": 4,
 "nbformat_minor": 5
}
