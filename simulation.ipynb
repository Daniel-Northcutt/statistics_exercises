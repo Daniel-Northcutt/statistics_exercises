{
 "cells": [
  {
   "cell_type": "code",
   "execution_count": 1,
   "id": "3e71d2a7",
   "metadata": {},
   "outputs": [],
   "source": [
    "import random\n",
    "import numpy as np\n",
    "import pandas as pd\n",
    "\n",
    "#import viz # curriculum example visualizations\n",
    "\n",
    "np.random.seed(29)"
   ]
  },
  {
   "cell_type": "markdown",
   "id": "e046fff1",
   "metadata": {},
   "source": [
    "### 1. How likely is it that you roll doubles when rolling two dice?"
   ]
  },
  {
   "cell_type": "code",
   "execution_count": 2,
   "id": "001cbfec",
   "metadata": {},
   "outputs": [
    {
     "data": {
      "text/plain": [
       "0.1613"
      ]
     },
     "execution_count": 2,
     "metadata": {},
     "output_type": "execute_result"
    }
   ],
   "source": [
    "#running simmulation 10k \n",
    "\n",
    "die1 = np.random.choice ([1,2,3,4,5,6], 10_000)\n",
    "die2 = np.random.choice ([1,2,3,4,5,6], 10_000)\n",
    "samesies = die1 == die2\n",
    "\n",
    "samesies.mean()"
   ]
  },
  {
   "cell_type": "code",
   "execution_count": 3,
   "id": "c59df64d",
   "metadata": {},
   "outputs": [],
   "source": [
    "#jons\n",
    "nrows= 100_000\n",
    "ncols = 2"
   ]
  },
  {
   "cell_type": "code",
   "execution_count": 4,
   "id": "fe5c3599",
   "metadata": {},
   "outputs": [
    {
     "data": {
      "text/plain": [
       "array([[3, 3],\n",
       "       [3, 3],\n",
       "       [2, 1],\n",
       "       ...,\n",
       "       [6, 1],\n",
       "       [6, 2],\n",
       "       [3, 1]])"
      ]
     },
     "execution_count": 4,
     "metadata": {},
     "output_type": "execute_result"
    }
   ],
   "source": [
    "rolls = np.random.choice ([1,2,3,4,5,6], nrows * ncols).reshape (nrows, ncols)\n",
    "rolls"
   ]
  },
  {
   "cell_type": "code",
   "execution_count": 5,
   "id": "be60194c",
   "metadata": {},
   "outputs": [
    {
     "data": {
      "text/html": [
       "<div>\n",
       "<style scoped>\n",
       "    .dataframe tbody tr th:only-of-type {\n",
       "        vertical-align: middle;\n",
       "    }\n",
       "\n",
       "    .dataframe tbody tr th {\n",
       "        vertical-align: top;\n",
       "    }\n",
       "\n",
       "    .dataframe thead th {\n",
       "        text-align: right;\n",
       "    }\n",
       "</style>\n",
       "<table border=\"1\" class=\"dataframe\">\n",
       "  <thead>\n",
       "    <tr style=\"text-align: right;\">\n",
       "      <th></th>\n",
       "      <th>0</th>\n",
       "      <th>1</th>\n",
       "    </tr>\n",
       "  </thead>\n",
       "  <tbody>\n",
       "    <tr>\n",
       "      <th>0</th>\n",
       "      <td>3</td>\n",
       "      <td>3</td>\n",
       "    </tr>\n",
       "    <tr>\n",
       "      <th>1</th>\n",
       "      <td>3</td>\n",
       "      <td>3</td>\n",
       "    </tr>\n",
       "    <tr>\n",
       "      <th>2</th>\n",
       "      <td>2</td>\n",
       "      <td>1</td>\n",
       "    </tr>\n",
       "    <tr>\n",
       "      <th>3</th>\n",
       "      <td>4</td>\n",
       "      <td>1</td>\n",
       "    </tr>\n",
       "    <tr>\n",
       "      <th>4</th>\n",
       "      <td>4</td>\n",
       "      <td>4</td>\n",
       "    </tr>\n",
       "  </tbody>\n",
       "</table>\n",
       "</div>"
      ],
      "text/plain": [
       "   0  1\n",
       "0  3  3\n",
       "1  3  3\n",
       "2  2  1\n",
       "3  4  1\n",
       "4  4  4"
      ]
     },
     "execution_count": 5,
     "metadata": {},
     "output_type": "execute_result"
    }
   ],
   "source": [
    "df = pd.DataFrame(rolls)\n",
    "df.head()"
   ]
  },
  {
   "cell_type": "code",
   "execution_count": 6,
   "id": "2cf4cb28",
   "metadata": {},
   "outputs": [
    {
     "data": {
      "text/plain": [
       "0         True\n",
       "1         True\n",
       "2        False\n",
       "3        False\n",
       "4         True\n",
       "         ...  \n",
       "99995    False\n",
       "99996    False\n",
       "99997    False\n",
       "99998    False\n",
       "99999    False\n",
       "Length: 100000, dtype: bool"
      ]
     },
     "execution_count": 6,
     "metadata": {},
     "output_type": "execute_result"
    }
   ],
   "source": [
    "df.apply(lambda row: row.values[0] == row.values[1], axis=1)"
   ]
  },
  {
   "cell_type": "code",
   "execution_count": 7,
   "id": "d59ed74f",
   "metadata": {},
   "outputs": [
    {
     "data": {
      "text/plain": [
       "0.16622"
      ]
     },
     "execution_count": 7,
     "metadata": {},
     "output_type": "execute_result"
    }
   ],
   "source": [
    "df.apply(lambda row: row.values[0] == row.values[1], axis=1).mean()"
   ]
  },
  {
   "cell_type": "markdown",
   "id": "62b240aa",
   "metadata": {},
   "source": [
    "### 2. If you flip 8 coins, what is the probability of getting exactly 3 heads? What is the probability of getting more than 3 heads?"
   ]
  },
  {
   "cell_type": "code",
   "execution_count": 8,
   "id": "26169a8d",
   "metadata": {},
   "outputs": [],
   "source": [
    "#flip 8 coins - options heads or tails\n",
    "#1 = Heads, 0=Tails\n",
    "\n",
    "outcomes = [1, 0]\n",
    "n_simulation = 10_000\n",
    "n_trials = 8\n",
    "\n",
    "flip = np.random.choice(outcomes, size = (n_simulation, n_trials))\n",
    "\n"
   ]
  },
  {
   "cell_type": "code",
   "execution_count": 9,
   "id": "4daf4cea",
   "metadata": {},
   "outputs": [],
   "source": [
    "results = flip.sum(axis=1)"
   ]
  },
  {
   "cell_type": "code",
   "execution_count": 10,
   "id": "f09ec87d",
   "metadata": {},
   "outputs": [
    {
     "data": {
      "text/plain": [
       "0.2179"
      ]
     },
     "execution_count": 10,
     "metadata": {},
     "output_type": "execute_result"
    }
   ],
   "source": [
    "(results == 3).mean()"
   ]
  },
  {
   "cell_type": "code",
   "execution_count": 11,
   "id": "274d1795",
   "metadata": {
    "scrolled": false
   },
   "outputs": [
    {
     "data": {
      "text/plain": [
       "array([[ True,  True, False, ...,  True, False,  True],\n",
       "       [ True, False,  True, ...,  True, False, False],\n",
       "       [ True,  True, False, ...,  True,  True, False],\n",
       "       ...,\n",
       "       [ True,  True, False, ..., False, False, False],\n",
       "       [ True,  True,  True, ..., False,  True,  True],\n",
       "       [ True,  True, False, ...,  True, False,  True]])"
      ]
     },
     "execution_count": 11,
     "metadata": {},
     "output_type": "execute_result"
    }
   ],
   "source": [
    "n_trials = 10_000\n",
    "n_coins = 8\n",
    "\n",
    "flips = np.random.choice([True, False], size=(n_trials, n_coins))\n",
    "flips"
   ]
  },
  {
   "cell_type": "code",
   "execution_count": 12,
   "id": "eaa02e73",
   "metadata": {
    "scrolled": false
   },
   "outputs": [
    {
     "data": {
      "text/html": [
       "<div>\n",
       "<style scoped>\n",
       "    .dataframe tbody tr th:only-of-type {\n",
       "        vertical-align: middle;\n",
       "    }\n",
       "\n",
       "    .dataframe tbody tr th {\n",
       "        vertical-align: top;\n",
       "    }\n",
       "\n",
       "    .dataframe thead th {\n",
       "        text-align: right;\n",
       "    }\n",
       "</style>\n",
       "<table border=\"1\" class=\"dataframe\">\n",
       "  <thead>\n",
       "    <tr style=\"text-align: right;\">\n",
       "      <th></th>\n",
       "      <th>0</th>\n",
       "      <th>1</th>\n",
       "      <th>2</th>\n",
       "      <th>3</th>\n",
       "      <th>4</th>\n",
       "      <th>5</th>\n",
       "      <th>6</th>\n",
       "      <th>7</th>\n",
       "    </tr>\n",
       "  </thead>\n",
       "  <tbody>\n",
       "    <tr>\n",
       "      <th>0</th>\n",
       "      <td>True</td>\n",
       "      <td>True</td>\n",
       "      <td>False</td>\n",
       "      <td>True</td>\n",
       "      <td>False</td>\n",
       "      <td>True</td>\n",
       "      <td>False</td>\n",
       "      <td>True</td>\n",
       "    </tr>\n",
       "    <tr>\n",
       "      <th>1</th>\n",
       "      <td>True</td>\n",
       "      <td>False</td>\n",
       "      <td>True</td>\n",
       "      <td>False</td>\n",
       "      <td>True</td>\n",
       "      <td>True</td>\n",
       "      <td>False</td>\n",
       "      <td>False</td>\n",
       "    </tr>\n",
       "    <tr>\n",
       "      <th>2</th>\n",
       "      <td>True</td>\n",
       "      <td>True</td>\n",
       "      <td>False</td>\n",
       "      <td>True</td>\n",
       "      <td>False</td>\n",
       "      <td>True</td>\n",
       "      <td>True</td>\n",
       "      <td>False</td>\n",
       "    </tr>\n",
       "    <tr>\n",
       "      <th>3</th>\n",
       "      <td>False</td>\n",
       "      <td>False</td>\n",
       "      <td>False</td>\n",
       "      <td>True</td>\n",
       "      <td>True</td>\n",
       "      <td>False</td>\n",
       "      <td>False</td>\n",
       "      <td>False</td>\n",
       "    </tr>\n",
       "    <tr>\n",
       "      <th>4</th>\n",
       "      <td>True</td>\n",
       "      <td>False</td>\n",
       "      <td>True</td>\n",
       "      <td>False</td>\n",
       "      <td>False</td>\n",
       "      <td>True</td>\n",
       "      <td>False</td>\n",
       "      <td>True</td>\n",
       "    </tr>\n",
       "  </tbody>\n",
       "</table>\n",
       "</div>"
      ],
      "text/plain": [
       "       0      1      2      3      4      5      6      7\n",
       "0   True   True  False   True  False   True  False   True\n",
       "1   True  False   True  False   True   True  False  False\n",
       "2   True   True  False   True  False   True   True  False\n",
       "3  False  False  False   True   True  False  False  False\n",
       "4   True  False   True  False  False   True  False   True"
      ]
     },
     "execution_count": 12,
     "metadata": {},
     "output_type": "execute_result"
    }
   ],
   "source": [
    "df = pd.DataFrame(flips)\n",
    "df.head()"
   ]
  },
  {
   "cell_type": "code",
   "execution_count": null,
   "id": "6ffc8cba",
   "metadata": {},
   "outputs": [],
   "source": []
  },
  {
   "cell_type": "code",
   "execution_count": 13,
   "id": "a75b7f9a",
   "metadata": {},
   "outputs": [
    {
     "data": {
      "text/html": [
       "<div>\n",
       "<style scoped>\n",
       "    .dataframe tbody tr th:only-of-type {\n",
       "        vertical-align: middle;\n",
       "    }\n",
       "\n",
       "    .dataframe tbody tr th {\n",
       "        vertical-align: top;\n",
       "    }\n",
       "\n",
       "    .dataframe thead th {\n",
       "        text-align: right;\n",
       "    }\n",
       "</style>\n",
       "<table border=\"1\" class=\"dataframe\">\n",
       "  <thead>\n",
       "    <tr style=\"text-align: right;\">\n",
       "      <th></th>\n",
       "      <th>0</th>\n",
       "      <th>1</th>\n",
       "      <th>2</th>\n",
       "      <th>3</th>\n",
       "      <th>4</th>\n",
       "      <th>5</th>\n",
       "      <th>6</th>\n",
       "      <th>7</th>\n",
       "      <th>head_count</th>\n",
       "      <th>three_heads</th>\n",
       "    </tr>\n",
       "  </thead>\n",
       "  <tbody>\n",
       "    <tr>\n",
       "      <th>0</th>\n",
       "      <td>True</td>\n",
       "      <td>True</td>\n",
       "      <td>False</td>\n",
       "      <td>True</td>\n",
       "      <td>False</td>\n",
       "      <td>True</td>\n",
       "      <td>False</td>\n",
       "      <td>True</td>\n",
       "      <td>5</td>\n",
       "      <td>False</td>\n",
       "    </tr>\n",
       "    <tr>\n",
       "      <th>1</th>\n",
       "      <td>True</td>\n",
       "      <td>False</td>\n",
       "      <td>True</td>\n",
       "      <td>False</td>\n",
       "      <td>True</td>\n",
       "      <td>True</td>\n",
       "      <td>False</td>\n",
       "      <td>False</td>\n",
       "      <td>4</td>\n",
       "      <td>False</td>\n",
       "    </tr>\n",
       "    <tr>\n",
       "      <th>2</th>\n",
       "      <td>True</td>\n",
       "      <td>True</td>\n",
       "      <td>False</td>\n",
       "      <td>True</td>\n",
       "      <td>False</td>\n",
       "      <td>True</td>\n",
       "      <td>True</td>\n",
       "      <td>False</td>\n",
       "      <td>5</td>\n",
       "      <td>False</td>\n",
       "    </tr>\n",
       "    <tr>\n",
       "      <th>3</th>\n",
       "      <td>False</td>\n",
       "      <td>False</td>\n",
       "      <td>False</td>\n",
       "      <td>True</td>\n",
       "      <td>True</td>\n",
       "      <td>False</td>\n",
       "      <td>False</td>\n",
       "      <td>False</td>\n",
       "      <td>2</td>\n",
       "      <td>False</td>\n",
       "    </tr>\n",
       "    <tr>\n",
       "      <th>4</th>\n",
       "      <td>True</td>\n",
       "      <td>False</td>\n",
       "      <td>True</td>\n",
       "      <td>False</td>\n",
       "      <td>False</td>\n",
       "      <td>True</td>\n",
       "      <td>False</td>\n",
       "      <td>True</td>\n",
       "      <td>4</td>\n",
       "      <td>False</td>\n",
       "    </tr>\n",
       "    <tr>\n",
       "      <th>...</th>\n",
       "      <td>...</td>\n",
       "      <td>...</td>\n",
       "      <td>...</td>\n",
       "      <td>...</td>\n",
       "      <td>...</td>\n",
       "      <td>...</td>\n",
       "      <td>...</td>\n",
       "      <td>...</td>\n",
       "      <td>...</td>\n",
       "      <td>...</td>\n",
       "    </tr>\n",
       "    <tr>\n",
       "      <th>9995</th>\n",
       "      <td>True</td>\n",
       "      <td>False</td>\n",
       "      <td>True</td>\n",
       "      <td>False</td>\n",
       "      <td>False</td>\n",
       "      <td>True</td>\n",
       "      <td>True</td>\n",
       "      <td>True</td>\n",
       "      <td>5</td>\n",
       "      <td>False</td>\n",
       "    </tr>\n",
       "    <tr>\n",
       "      <th>9996</th>\n",
       "      <td>True</td>\n",
       "      <td>False</td>\n",
       "      <td>False</td>\n",
       "      <td>False</td>\n",
       "      <td>False</td>\n",
       "      <td>True</td>\n",
       "      <td>False</td>\n",
       "      <td>False</td>\n",
       "      <td>2</td>\n",
       "      <td>False</td>\n",
       "    </tr>\n",
       "    <tr>\n",
       "      <th>9997</th>\n",
       "      <td>True</td>\n",
       "      <td>True</td>\n",
       "      <td>False</td>\n",
       "      <td>True</td>\n",
       "      <td>True</td>\n",
       "      <td>False</td>\n",
       "      <td>False</td>\n",
       "      <td>False</td>\n",
       "      <td>4</td>\n",
       "      <td>False</td>\n",
       "    </tr>\n",
       "    <tr>\n",
       "      <th>9998</th>\n",
       "      <td>True</td>\n",
       "      <td>True</td>\n",
       "      <td>True</td>\n",
       "      <td>True</td>\n",
       "      <td>False</td>\n",
       "      <td>False</td>\n",
       "      <td>True</td>\n",
       "      <td>True</td>\n",
       "      <td>6</td>\n",
       "      <td>False</td>\n",
       "    </tr>\n",
       "    <tr>\n",
       "      <th>9999</th>\n",
       "      <td>True</td>\n",
       "      <td>True</td>\n",
       "      <td>False</td>\n",
       "      <td>True</td>\n",
       "      <td>True</td>\n",
       "      <td>True</td>\n",
       "      <td>False</td>\n",
       "      <td>True</td>\n",
       "      <td>6</td>\n",
       "      <td>False</td>\n",
       "    </tr>\n",
       "  </tbody>\n",
       "</table>\n",
       "<p>10000 rows × 10 columns</p>\n",
       "</div>"
      ],
      "text/plain": [
       "          0      1      2      3      4      5      6      7  head_count  \\\n",
       "0      True   True  False   True  False   True  False   True           5   \n",
       "1      True  False   True  False   True   True  False  False           4   \n",
       "2      True   True  False   True  False   True   True  False           5   \n",
       "3     False  False  False   True   True  False  False  False           2   \n",
       "4      True  False   True  False  False   True  False   True           4   \n",
       "...     ...    ...    ...    ...    ...    ...    ...    ...         ...   \n",
       "9995   True  False   True  False  False   True   True   True           5   \n",
       "9996   True  False  False  False  False   True  False  False           2   \n",
       "9997   True   True  False   True   True  False  False  False           4   \n",
       "9998   True   True   True   True  False  False   True   True           6   \n",
       "9999   True   True  False   True   True   True  False   True           6   \n",
       "\n",
       "      three_heads  \n",
       "0           False  \n",
       "1           False  \n",
       "2           False  \n",
       "3           False  \n",
       "4           False  \n",
       "...           ...  \n",
       "9995        False  \n",
       "9996        False  \n",
       "9997        False  \n",
       "9998        False  \n",
       "9999        False  \n",
       "\n",
       "[10000 rows x 10 columns]"
      ]
     },
     "execution_count": 13,
     "metadata": {},
     "output_type": "execute_result"
    }
   ],
   "source": [
    "df['head_count'] = df.sum(axis=1)\n",
    "df['three_heads'] = df.head_count == 3\n",
    "df"
   ]
  },
  {
   "cell_type": "code",
   "execution_count": 14,
   "id": "7c3b3b26",
   "metadata": {},
   "outputs": [
    {
     "data": {
      "text/plain": [
       "0.2126"
      ]
     },
     "execution_count": 14,
     "metadata": {},
     "output_type": "execute_result"
    }
   ],
   "source": [
    "df.three_heads.mean()"
   ]
  },
  {
   "cell_type": "code",
   "execution_count": 15,
   "id": "62075ea4",
   "metadata": {},
   "outputs": [
    {
     "data": {
      "text/plain": [
       "0.8517"
      ]
     },
     "execution_count": 15,
     "metadata": {},
     "output_type": "execute_result"
    }
   ],
   "source": [
    "df['more_than_three'] = df.head_count >= 3\n",
    "df.more_than_three.mean()"
   ]
  },
  {
   "cell_type": "code",
   "execution_count": null,
   "id": "1a8ac36c",
   "metadata": {},
   "outputs": [],
   "source": []
  },
  {
   "cell_type": "markdown",
   "id": "4247169d",
   "metadata": {},
   "source": [
    "### 3. There are approximitely 3 web development cohorts for every 1 data science cohort at Codeup. Assuming that Codeup randomly selects an alumni to put on a billboard, what are the odds that the two billboards I drive past both have data science students on them?"
   ]
  },
  {
   "cell_type": "code",
   "execution_count": 16,
   "id": "bafdedf4",
   "metadata": {},
   "outputs": [
    {
     "data": {
      "text/plain": [
       "array([[0, 0],\n",
       "       [0, 0],\n",
       "       [0, 0],\n",
       "       ...,\n",
       "       [0, 1],\n",
       "       [0, 0],\n",
       "       [0, 0]])"
      ]
     },
     "execution_count": 16,
     "metadata": {},
     "output_type": "execute_result"
    }
   ],
   "source": [
    "#   1 = DS & 0 = WD, trials =2 for billboards\n",
    "\n",
    "outcomes = [1, 0]\n",
    "n_simulation = 10_000\n",
    "n_trials = 2\n",
    "\n",
    "billboards = np.random.choice(outcomes, size=(n_simulation, n_trials), p = [0.25, 0.75])\n",
    "billboards"
   ]
  },
  {
   "cell_type": "code",
   "execution_count": 17,
   "id": "fc47ac1f",
   "metadata": {},
   "outputs": [
    {
     "data": {
      "text/plain": [
       "array([0, 0, 0, ..., 1, 0, 0])"
      ]
     },
     "execution_count": 17,
     "metadata": {},
     "output_type": "execute_result"
    }
   ],
   "source": [
    "results = billboards.sum(axis=1)\n",
    "results"
   ]
  },
  {
   "cell_type": "code",
   "execution_count": 18,
   "id": "ce73fc27",
   "metadata": {},
   "outputs": [
    {
     "data": {
      "text/plain": [
       "0.0632"
      ]
     },
     "execution_count": 18,
     "metadata": {},
     "output_type": "execute_result"
    }
   ],
   "source": [
    "(results == 2).mean()"
   ]
  },
  {
   "cell_type": "code",
   "execution_count": 19,
   "id": "9ae7b30a",
   "metadata": {},
   "outputs": [
    {
     "data": {
      "text/plain": [
       "array([['WD', 'WD'],\n",
       "       ['WD', 'DS'],\n",
       "       ['WD', 'WD'],\n",
       "       ...,\n",
       "       ['WD', 'WD'],\n",
       "       ['WD', 'WD'],\n",
       "       ['WD', 'WD']], dtype='<U2')"
      ]
     },
     "execution_count": 19,
     "metadata": {},
     "output_type": "execute_result"
    }
   ],
   "source": [
    "n_trials=2\n",
    "n_simulation = 10_000\n",
    "\n",
    "billboard = np.random.choice([\"DS\",\"WD\",\"WD\",\"WD\"], size = (n_simulation, n_trials))\n",
    "billboard"
   ]
  },
  {
   "cell_type": "code",
   "execution_count": 20,
   "id": "7cbaba22",
   "metadata": {},
   "outputs": [
    {
     "data": {
      "text/html": [
       "<div>\n",
       "<style scoped>\n",
       "    .dataframe tbody tr th:only-of-type {\n",
       "        vertical-align: middle;\n",
       "    }\n",
       "\n",
       "    .dataframe tbody tr th {\n",
       "        vertical-align: top;\n",
       "    }\n",
       "\n",
       "    .dataframe thead th {\n",
       "        text-align: right;\n",
       "    }\n",
       "</style>\n",
       "<table border=\"1\" class=\"dataframe\">\n",
       "  <thead>\n",
       "    <tr style=\"text-align: right;\">\n",
       "      <th></th>\n",
       "      <th>0</th>\n",
       "      <th>1</th>\n",
       "    </tr>\n",
       "  </thead>\n",
       "  <tbody>\n",
       "    <tr>\n",
       "      <th>0</th>\n",
       "      <td>WD</td>\n",
       "      <td>WD</td>\n",
       "    </tr>\n",
       "    <tr>\n",
       "      <th>1</th>\n",
       "      <td>WD</td>\n",
       "      <td>DS</td>\n",
       "    </tr>\n",
       "    <tr>\n",
       "      <th>2</th>\n",
       "      <td>WD</td>\n",
       "      <td>WD</td>\n",
       "    </tr>\n",
       "    <tr>\n",
       "      <th>3</th>\n",
       "      <td>WD</td>\n",
       "      <td>WD</td>\n",
       "    </tr>\n",
       "    <tr>\n",
       "      <th>4</th>\n",
       "      <td>WD</td>\n",
       "      <td>WD</td>\n",
       "    </tr>\n",
       "  </tbody>\n",
       "</table>\n",
       "</div>"
      ],
      "text/plain": [
       "    0   1\n",
       "0  WD  WD\n",
       "1  WD  DS\n",
       "2  WD  WD\n",
       "3  WD  WD\n",
       "4  WD  WD"
      ]
     },
     "execution_count": 20,
     "metadata": {},
     "output_type": "execute_result"
    }
   ],
   "source": [
    "df = pd.DataFrame(billboard)\n",
    "df.head()"
   ]
  },
  {
   "cell_type": "code",
   "execution_count": 21,
   "id": "77685455",
   "metadata": {},
   "outputs": [
    {
     "data": {
      "text/plain": [
       "0.0661"
      ]
     },
     "execution_count": 21,
     "metadata": {},
     "output_type": "execute_result"
    }
   ],
   "source": [
    "df['both_ds'] = (df[0] == \"DS\") & (df[1] == \"DS\")\n",
    "df.both_ds.mean()"
   ]
  },
  {
   "cell_type": "code",
   "execution_count": null,
   "id": "bfa6d0a0",
   "metadata": {},
   "outputs": [],
   "source": []
  },
  {
   "cell_type": "markdown",
   "id": "8cd563a9",
   "metadata": {},
   "source": [
    "### 4. Codeup students buy, on average, 3 poptart packages with a standard deviation of 1.5 a day from the snack vending machine. If on monday the machine is restocked with 17 poptart packages, how likely is it that I will be able to buy some poptarts on Friday afternoon? (Remember, if you have mean and standard deviation, use the np.random.normal)"
   ]
  },
  {
   "cell_type": "code",
   "execution_count": 22,
   "id": "4a9f4186",
   "metadata": {},
   "outputs": [],
   "source": [
    "#3 poptarts w/ std 1.5 \n",
    "#monday = 17 how likely to be out by friday"
   ]
  },
  {
   "cell_type": "code",
   "execution_count": 23,
   "id": "5305759d",
   "metadata": {},
   "outputs": [],
   "source": [
    "n_simulations = 10_000\n",
    "n_trials = 5 #5 days"
   ]
  },
  {
   "cell_type": "code",
   "execution_count": 24,
   "id": "41902271",
   "metadata": {},
   "outputs": [
    {
     "data": {
      "text/plain": [
       "array([[2, 1, 3, 1, 5],\n",
       "       [3, 2, 1, 2, 1],\n",
       "       [2, 0, 0, 2, 4],\n",
       "       ...,\n",
       "       [2, 2, 1, 4, 3],\n",
       "       [3, 1, 0, 3, 1],\n",
       "       [2, 2, 2, 0, 2]])"
      ]
     },
     "execution_count": 24,
     "metadata": {},
     "output_type": "execute_result"
    }
   ],
   "source": [
    "poptarts = np.random.normal(3, 1.5, n_simulations * n_trials).astype(int).reshape(n_simulations, n_trials)\n",
    "#poptarts.astype(int)\n",
    "poptarts"
   ]
  },
  {
   "cell_type": "code",
   "execution_count": 25,
   "id": "475f3a80",
   "metadata": {},
   "outputs": [
    {
     "data": {
      "text/html": [
       "<div>\n",
       "<style scoped>\n",
       "    .dataframe tbody tr th:only-of-type {\n",
       "        vertical-align: middle;\n",
       "    }\n",
       "\n",
       "    .dataframe tbody tr th {\n",
       "        vertical-align: top;\n",
       "    }\n",
       "\n",
       "    .dataframe thead th {\n",
       "        text-align: right;\n",
       "    }\n",
       "</style>\n",
       "<table border=\"1\" class=\"dataframe\">\n",
       "  <thead>\n",
       "    <tr style=\"text-align: right;\">\n",
       "      <th></th>\n",
       "      <th>0</th>\n",
       "      <th>1</th>\n",
       "      <th>2</th>\n",
       "      <th>3</th>\n",
       "      <th>4</th>\n",
       "    </tr>\n",
       "  </thead>\n",
       "  <tbody>\n",
       "    <tr>\n",
       "      <th>0</th>\n",
       "      <td>2</td>\n",
       "      <td>1</td>\n",
       "      <td>3</td>\n",
       "      <td>1</td>\n",
       "      <td>5</td>\n",
       "    </tr>\n",
       "    <tr>\n",
       "      <th>1</th>\n",
       "      <td>3</td>\n",
       "      <td>2</td>\n",
       "      <td>1</td>\n",
       "      <td>2</td>\n",
       "      <td>1</td>\n",
       "    </tr>\n",
       "    <tr>\n",
       "      <th>2</th>\n",
       "      <td>2</td>\n",
       "      <td>0</td>\n",
       "      <td>0</td>\n",
       "      <td>2</td>\n",
       "      <td>4</td>\n",
       "    </tr>\n",
       "    <tr>\n",
       "      <th>3</th>\n",
       "      <td>3</td>\n",
       "      <td>1</td>\n",
       "      <td>2</td>\n",
       "      <td>2</td>\n",
       "      <td>1</td>\n",
       "    </tr>\n",
       "    <tr>\n",
       "      <th>4</th>\n",
       "      <td>2</td>\n",
       "      <td>5</td>\n",
       "      <td>4</td>\n",
       "      <td>1</td>\n",
       "      <td>3</td>\n",
       "    </tr>\n",
       "    <tr>\n",
       "      <th>...</th>\n",
       "      <td>...</td>\n",
       "      <td>...</td>\n",
       "      <td>...</td>\n",
       "      <td>...</td>\n",
       "      <td>...</td>\n",
       "    </tr>\n",
       "    <tr>\n",
       "      <th>9995</th>\n",
       "      <td>0</td>\n",
       "      <td>3</td>\n",
       "      <td>4</td>\n",
       "      <td>4</td>\n",
       "      <td>3</td>\n",
       "    </tr>\n",
       "    <tr>\n",
       "      <th>9996</th>\n",
       "      <td>4</td>\n",
       "      <td>4</td>\n",
       "      <td>4</td>\n",
       "      <td>1</td>\n",
       "      <td>0</td>\n",
       "    </tr>\n",
       "    <tr>\n",
       "      <th>9997</th>\n",
       "      <td>2</td>\n",
       "      <td>2</td>\n",
       "      <td>1</td>\n",
       "      <td>4</td>\n",
       "      <td>3</td>\n",
       "    </tr>\n",
       "    <tr>\n",
       "      <th>9998</th>\n",
       "      <td>3</td>\n",
       "      <td>1</td>\n",
       "      <td>0</td>\n",
       "      <td>3</td>\n",
       "      <td>1</td>\n",
       "    </tr>\n",
       "    <tr>\n",
       "      <th>9999</th>\n",
       "      <td>2</td>\n",
       "      <td>2</td>\n",
       "      <td>2</td>\n",
       "      <td>0</td>\n",
       "      <td>2</td>\n",
       "    </tr>\n",
       "  </tbody>\n",
       "</table>\n",
       "<p>10000 rows × 5 columns</p>\n",
       "</div>"
      ],
      "text/plain": [
       "      0  1  2  3  4\n",
       "0     2  1  3  1  5\n",
       "1     3  2  1  2  1\n",
       "2     2  0  0  2  4\n",
       "3     3  1  2  2  1\n",
       "4     2  5  4  1  3\n",
       "...  .. .. .. .. ..\n",
       "9995  0  3  4  4  3\n",
       "9996  4  4  4  1  0\n",
       "9997  2  2  1  4  3\n",
       "9998  3  1  0  3  1\n",
       "9999  2  2  2  0  2\n",
       "\n",
       "[10000 rows x 5 columns]"
      ]
     },
     "execution_count": 25,
     "metadata": {},
     "output_type": "execute_result"
    }
   ],
   "source": [
    "poptarts = pd.DataFrame(poptarts)\n",
    "poptarts.round()"
   ]
  },
  {
   "cell_type": "code",
   "execution_count": 26,
   "id": "d26440ca",
   "metadata": {},
   "outputs": [
    {
     "data": {
      "text/plain": [
       "0.8774"
      ]
     },
     "execution_count": 26,
     "metadata": {},
     "output_type": "execute_result"
    }
   ],
   "source": [
    "poptarts_friday = poptarts.sum(axis=1)<17\n",
    "poptarts_friday.mean()"
   ]
  },
  {
   "cell_type": "code",
   "execution_count": null,
   "id": "567a6f80",
   "metadata": {},
   "outputs": [],
   "source": []
  },
  {
   "cell_type": "code",
   "execution_count": 27,
   "id": "7d7b7888",
   "metadata": {},
   "outputs": [],
   "source": [
    "n_simulations = 10_000\n",
    "n_trials = 5"
   ]
  },
  {
   "cell_type": "code",
   "execution_count": 28,
   "id": "acd0b0b2",
   "metadata": {},
   "outputs": [
    {
     "data": {
      "text/html": [
       "<div>\n",
       "<style scoped>\n",
       "    .dataframe tbody tr th:only-of-type {\n",
       "        vertical-align: middle;\n",
       "    }\n",
       "\n",
       "    .dataframe tbody tr th {\n",
       "        vertical-align: top;\n",
       "    }\n",
       "\n",
       "    .dataframe thead th {\n",
       "        text-align: right;\n",
       "    }\n",
       "</style>\n",
       "<table border=\"1\" class=\"dataframe\">\n",
       "  <thead>\n",
       "    <tr style=\"text-align: right;\">\n",
       "      <th></th>\n",
       "      <th>0</th>\n",
       "      <th>1</th>\n",
       "      <th>2</th>\n",
       "      <th>3</th>\n",
       "      <th>4</th>\n",
       "    </tr>\n",
       "  </thead>\n",
       "  <tbody>\n",
       "    <tr>\n",
       "      <th>0</th>\n",
       "      <td>1</td>\n",
       "      <td>4</td>\n",
       "      <td>1</td>\n",
       "      <td>5</td>\n",
       "      <td>3</td>\n",
       "    </tr>\n",
       "    <tr>\n",
       "      <th>1</th>\n",
       "      <td>2</td>\n",
       "      <td>3</td>\n",
       "      <td>1</td>\n",
       "      <td>1</td>\n",
       "      <td>2</td>\n",
       "    </tr>\n",
       "    <tr>\n",
       "      <th>2</th>\n",
       "      <td>2</td>\n",
       "      <td>2</td>\n",
       "      <td>0</td>\n",
       "      <td>5</td>\n",
       "      <td>0</td>\n",
       "    </tr>\n",
       "    <tr>\n",
       "      <th>3</th>\n",
       "      <td>3</td>\n",
       "      <td>3</td>\n",
       "      <td>2</td>\n",
       "      <td>1</td>\n",
       "      <td>3</td>\n",
       "    </tr>\n",
       "    <tr>\n",
       "      <th>4</th>\n",
       "      <td>3</td>\n",
       "      <td>5</td>\n",
       "      <td>2</td>\n",
       "      <td>3</td>\n",
       "      <td>1</td>\n",
       "    </tr>\n",
       "  </tbody>\n",
       "</table>\n",
       "</div>"
      ],
      "text/plain": [
       "   0  1  2  3  4\n",
       "0  1  4  1  5  3\n",
       "1  2  3  1  1  2\n",
       "2  2  2  0  5  0\n",
       "3  3  3  2  1  3\n",
       "4  3  5  2  3  1"
      ]
     },
     "execution_count": 28,
     "metadata": {},
     "output_type": "execute_result"
    }
   ],
   "source": [
    "poptarts= np.random.normal(3, 1.5, n_simulations * n_trials).astype(int).reshape(n_simulations, n_trials)\n",
    "df = pd.DataFrame(poptarts)\n",
    "df.head()"
   ]
  },
  {
   "cell_type": "code",
   "execution_count": 29,
   "id": "d03539e1",
   "metadata": {},
   "outputs": [
    {
     "data": {
      "text/html": [
       "<div>\n",
       "<style scoped>\n",
       "    .dataframe tbody tr th:only-of-type {\n",
       "        vertical-align: middle;\n",
       "    }\n",
       "\n",
       "    .dataframe tbody tr th {\n",
       "        vertical-align: top;\n",
       "    }\n",
       "\n",
       "    .dataframe thead th {\n",
       "        text-align: right;\n",
       "    }\n",
       "</style>\n",
       "<table border=\"1\" class=\"dataframe\">\n",
       "  <thead>\n",
       "    <tr style=\"text-align: right;\">\n",
       "      <th></th>\n",
       "      <th>0</th>\n",
       "      <th>1</th>\n",
       "      <th>2</th>\n",
       "      <th>3</th>\n",
       "      <th>4</th>\n",
       "      <th>poptarts_bought</th>\n",
       "    </tr>\n",
       "  </thead>\n",
       "  <tbody>\n",
       "    <tr>\n",
       "      <th>0</th>\n",
       "      <td>1</td>\n",
       "      <td>4</td>\n",
       "      <td>1</td>\n",
       "      <td>5</td>\n",
       "      <td>3</td>\n",
       "      <td>14</td>\n",
       "    </tr>\n",
       "    <tr>\n",
       "      <th>1</th>\n",
       "      <td>2</td>\n",
       "      <td>3</td>\n",
       "      <td>1</td>\n",
       "      <td>1</td>\n",
       "      <td>2</td>\n",
       "      <td>9</td>\n",
       "    </tr>\n",
       "    <tr>\n",
       "      <th>2</th>\n",
       "      <td>2</td>\n",
       "      <td>2</td>\n",
       "      <td>0</td>\n",
       "      <td>5</td>\n",
       "      <td>0</td>\n",
       "      <td>9</td>\n",
       "    </tr>\n",
       "    <tr>\n",
       "      <th>3</th>\n",
       "      <td>3</td>\n",
       "      <td>3</td>\n",
       "      <td>2</td>\n",
       "      <td>1</td>\n",
       "      <td>3</td>\n",
       "      <td>12</td>\n",
       "    </tr>\n",
       "    <tr>\n",
       "      <th>4</th>\n",
       "      <td>3</td>\n",
       "      <td>5</td>\n",
       "      <td>2</td>\n",
       "      <td>3</td>\n",
       "      <td>1</td>\n",
       "      <td>14</td>\n",
       "    </tr>\n",
       "    <tr>\n",
       "      <th>...</th>\n",
       "      <td>...</td>\n",
       "      <td>...</td>\n",
       "      <td>...</td>\n",
       "      <td>...</td>\n",
       "      <td>...</td>\n",
       "      <td>...</td>\n",
       "    </tr>\n",
       "    <tr>\n",
       "      <th>9995</th>\n",
       "      <td>1</td>\n",
       "      <td>3</td>\n",
       "      <td>0</td>\n",
       "      <td>1</td>\n",
       "      <td>3</td>\n",
       "      <td>8</td>\n",
       "    </tr>\n",
       "    <tr>\n",
       "      <th>9996</th>\n",
       "      <td>4</td>\n",
       "      <td>6</td>\n",
       "      <td>4</td>\n",
       "      <td>3</td>\n",
       "      <td>3</td>\n",
       "      <td>20</td>\n",
       "    </tr>\n",
       "    <tr>\n",
       "      <th>9997</th>\n",
       "      <td>2</td>\n",
       "      <td>2</td>\n",
       "      <td>4</td>\n",
       "      <td>2</td>\n",
       "      <td>3</td>\n",
       "      <td>13</td>\n",
       "    </tr>\n",
       "    <tr>\n",
       "      <th>9998</th>\n",
       "      <td>4</td>\n",
       "      <td>2</td>\n",
       "      <td>5</td>\n",
       "      <td>2</td>\n",
       "      <td>2</td>\n",
       "      <td>15</td>\n",
       "    </tr>\n",
       "    <tr>\n",
       "      <th>9999</th>\n",
       "      <td>4</td>\n",
       "      <td>2</td>\n",
       "      <td>1</td>\n",
       "      <td>2</td>\n",
       "      <td>5</td>\n",
       "      <td>14</td>\n",
       "    </tr>\n",
       "  </tbody>\n",
       "</table>\n",
       "<p>10000 rows × 6 columns</p>\n",
       "</div>"
      ],
      "text/plain": [
       "      0  1  2  3  4  poptarts_bought\n",
       "0     1  4  1  5  3               14\n",
       "1     2  3  1  1  2                9\n",
       "2     2  2  0  5  0                9\n",
       "3     3  3  2  1  3               12\n",
       "4     3  5  2  3  1               14\n",
       "...  .. .. .. .. ..              ...\n",
       "9995  1  3  0  1  3                8\n",
       "9996  4  6  4  3  3               20\n",
       "9997  2  2  4  2  3               13\n",
       "9998  4  2  5  2  2               15\n",
       "9999  4  2  1  2  5               14\n",
       "\n",
       "[10000 rows x 6 columns]"
      ]
     },
     "execution_count": 29,
     "metadata": {},
     "output_type": "execute_result"
    }
   ],
   "source": [
    "df['poptarts_bought'] = df.sum(axis=1)\n",
    "df"
   ]
  },
  {
   "cell_type": "code",
   "execution_count": 30,
   "id": "9550c93b",
   "metadata": {},
   "outputs": [
    {
     "data": {
      "text/plain": [
       "0.0706"
      ]
     },
     "execution_count": 30,
     "metadata": {},
     "output_type": "execute_result"
    }
   ],
   "source": [
    "df[\"poptarts_remain\"] = df[\"poptarts_bought\"] > 17\n",
    "df[\"poptarts_remain\"].mean()"
   ]
  },
  {
   "cell_type": "code",
   "execution_count": null,
   "id": "b7b719b5",
   "metadata": {},
   "outputs": [],
   "source": []
  },
  {
   "cell_type": "markdown",
   "id": "d77cfb52",
   "metadata": {},
   "source": [
    "### 5. Compare Heights\n",
    "\n",
    "- Men have an average height of 178 cm and standard deviation of 8cm.\n",
    "- Women have a mean of 170, sd = 6cm.\n",
    "- Since you have means and standard deviations, you can use np.random.normal to generate observations.\n",
    "- If a man and woman are chosen at random, P(woman taller than man)?"
   ]
  },
  {
   "cell_type": "code",
   "execution_count": 31,
   "id": "65ff142d",
   "metadata": {},
   "outputs": [],
   "source": [
    "n_simulations = 10_000\n",
    "men = np.random.normal(178, 8, size=n_simulations)\n",
    "women = np.random.normal(170, 6, size=n_simulations)"
   ]
  },
  {
   "cell_type": "code",
   "execution_count": 32,
   "id": "c47a24e7",
   "metadata": {},
   "outputs": [
    {
     "data": {
      "text/plain": [
       "0.2133"
      ]
     },
     "execution_count": 32,
     "metadata": {},
     "output_type": "execute_result"
    }
   ],
   "source": [
    "(women > men).mean()"
   ]
  },
  {
   "cell_type": "code",
   "execution_count": 33,
   "id": "abfeb8f3",
   "metadata": {},
   "outputs": [],
   "source": [
    "#df = pd.DataFrame({'male_heights'})"
   ]
  },
  {
   "cell_type": "code",
   "execution_count": null,
   "id": "f1c5e3f3",
   "metadata": {},
   "outputs": [],
   "source": []
  },
  {
   "cell_type": "markdown",
   "id": "1d63e8f1",
   "metadata": {},
   "source": [
    "### 6. When installing anaconda on a student's computer, there's a 1 in 250 chance that the download is corrupted and the installation fails. What are the odds that after having 50 students download anaconda, no one has an installation issue? 100 students?\n",
    "\n",
    "- What is the probability that we observe an installation issue within the first 150 students that download anaconda?\n",
    "\n",
    "- How likely is it that 450 students all download anaconda without an issue?\n",
    "\n"
   ]
  },
  {
   "cell_type": "code",
   "execution_count": 34,
   "id": "c9149c92",
   "metadata": {},
   "outputs": [
    {
     "data": {
      "text/plain": [
       "0.004"
      ]
     },
     "execution_count": 34,
     "metadata": {},
     "output_type": "execute_result"
    }
   ],
   "source": [
    "1/250"
   ]
  },
  {
   "cell_type": "code",
   "execution_count": 35,
   "id": "fc3b8037",
   "metadata": {},
   "outputs": [
    {
     "data": {
      "text/plain": [
       "0.996"
      ]
     },
     "execution_count": 35,
     "metadata": {},
     "output_type": "execute_result"
    }
   ],
   "source": [
    "1-(1/250)"
   ]
  },
  {
   "cell_type": "code",
   "execution_count": 36,
   "id": "623cc674",
   "metadata": {},
   "outputs": [
    {
     "data": {
      "text/plain": [
       "0.8193"
      ]
     },
     "execution_count": 36,
     "metadata": {},
     "output_type": "execute_result"
    }
   ],
   "source": [
    "outcomes = [0,1]\n",
    "n_simulations = 10_000\n",
    "n_trials = 50\n",
    "\n",
    "fails = np.random.choice(outcomes, size=(n_simulations, n_trials), p=[.996,.004])\n",
    "fails = fails.sum(axis=1)\n",
    "fails = (fails >=1).mean()\n",
    "1 - fails"
   ]
  },
  {
   "cell_type": "code",
   "execution_count": 37,
   "id": "66efdcf7",
   "metadata": {},
   "outputs": [
    {
     "data": {
      "text/plain": [
       "0.66947"
      ]
     },
     "execution_count": 37,
     "metadata": {},
     "output_type": "execute_result"
    }
   ],
   "source": [
    "outcomes = [0,1]\n",
    "n_simulations = 100_000\n",
    "n_trials = 100\n",
    "\n",
    "fails = np.random.choice(outcomes, size=(n_simulations, n_trials), p=[.996,.004])\n",
    "fails = fails.sum(axis=1)\n",
    "1 - (fails >=1).mean()\n"
   ]
  },
  {
   "cell_type": "code",
   "execution_count": 38,
   "id": "8089cffd",
   "metadata": {},
   "outputs": [
    {
     "data": {
      "text/plain": [
       "0.54747"
      ]
     },
     "execution_count": 38,
     "metadata": {},
     "output_type": "execute_result"
    }
   ],
   "source": [
    "outcomes = [0,1]\n",
    "n_simulations = 100_000\n",
    "n_trials = 150\n",
    "\n",
    "fails = np.random.choice(outcomes, size=(n_simulations, n_trials), p=[.996,.004])\n",
    "fails = fails.sum(axis=1)\n",
    "1 - (fails >=1).mean()"
   ]
  },
  {
   "cell_type": "code",
   "execution_count": 39,
   "id": "de753354",
   "metadata": {},
   "outputs": [
    {
     "data": {
      "text/plain": [
       "0.16510000000000002"
      ]
     },
     "execution_count": 39,
     "metadata": {},
     "output_type": "execute_result"
    }
   ],
   "source": [
    "outcomes = [0,1]\n",
    "n_simulations = 100_000\n",
    "n_trials = 450\n",
    "\n",
    "fails = np.random.choice(outcomes, size=(n_simulations, n_trials), p=[.996,.004])\n",
    "fails = fails.sum(axis=1)\n",
    "1 - (fails >=1).mean()"
   ]
  },
  {
   "cell_type": "markdown",
   "id": "e0a9cef8",
   "metadata": {},
   "source": [
    "### 7. There's a 70% chance on any given day that there will be at least one food truck at Travis Park. However, you haven't seen a food truck there in 3 days. How unlikely is this?"
   ]
  },
  {
   "cell_type": "code",
   "execution_count": 40,
   "id": "a196e109",
   "metadata": {},
   "outputs": [],
   "source": [
    "outcome = [1,0]\n",
    "n_simulations = 100_000\n",
    "n_trials = 3\n",
    "\n",
    "food_truck = np.random.choice(outcome, size =(n_simulations, n_trials), p=[.7,.3])\n",
    "food_truck = food_truck.sum(axis=1)\n",
    "#sum chances in each row\n",
    "#mean if sum ==0\n"
   ]
  },
  {
   "cell_type": "code",
   "execution_count": 41,
   "id": "be618fef",
   "metadata": {},
   "outputs": [
    {
     "name": "stdout",
     "output_type": "stream",
     "text": [
      "The chance of not seeing a food truck in 3 days is 0.02634\n"
     ]
    }
   ],
   "source": [
    "print(f\"The chance of not seeing a food truck in 3 days is {(food_truck == 0).mean()}\")"
   ]
  },
  {
   "cell_type": "code",
   "execution_count": null,
   "id": "9eb6ca82",
   "metadata": {},
   "outputs": [],
   "source": []
  },
  {
   "cell_type": "markdown",
   "id": "2ee426fc",
   "metadata": {},
   "source": [
    "### 7b. How likely is it that a food truck will show up sometime this week?\n"
   ]
  },
  {
   "cell_type": "code",
   "execution_count": 42,
   "id": "0dedfe91",
   "metadata": {},
   "outputs": [],
   "source": [
    "outcome = [1,0]\n",
    "n_simulations = 100_000\n",
    "n_trials = 7\n",
    "\n",
    "food_truck = np.random.choice(outcome, size =(n_simulations, n_trials), p=[.7,.3])\n",
    "food_truck = food_truck.sum(axis=1)"
   ]
  },
  {
   "cell_type": "code",
   "execution_count": 43,
   "id": "b21a5316",
   "metadata": {},
   "outputs": [
    {
     "name": "stdout",
     "output_type": "stream",
     "text": [
      "The chance of not seeing a food truck in 7 days is 0.00014\n"
     ]
    }
   ],
   "source": [
    "print(f\"The chance of not seeing a food truck in 7 days is {(food_truck == 0).mean()}\")"
   ]
  },
  {
   "cell_type": "code",
   "execution_count": null,
   "id": "32c24c26",
   "metadata": {},
   "outputs": [],
   "source": []
  },
  {
   "cell_type": "markdown",
   "id": "3996e9dd",
   "metadata": {},
   "source": [
    "### 8. If 23 people are in the same room, what are the odds that two of them share a birthday? What if it's 20 people? 40?"
   ]
  },
  {
   "cell_type": "code",
   "execution_count": 44,
   "id": "f8b4a6d2",
   "metadata": {},
   "outputs": [
    {
     "data": {
      "text/html": [
       "<div>\n",
       "<style scoped>\n",
       "    .dataframe tbody tr th:only-of-type {\n",
       "        vertical-align: middle;\n",
       "    }\n",
       "\n",
       "    .dataframe tbody tr th {\n",
       "        vertical-align: top;\n",
       "    }\n",
       "\n",
       "    .dataframe thead th {\n",
       "        text-align: right;\n",
       "    }\n",
       "</style>\n",
       "<table border=\"1\" class=\"dataframe\">\n",
       "  <thead>\n",
       "    <tr style=\"text-align: right;\">\n",
       "      <th></th>\n",
       "      <th>0</th>\n",
       "      <th>1</th>\n",
       "      <th>2</th>\n",
       "      <th>3</th>\n",
       "      <th>4</th>\n",
       "      <th>5</th>\n",
       "      <th>6</th>\n",
       "      <th>7</th>\n",
       "      <th>8</th>\n",
       "      <th>9</th>\n",
       "      <th>...</th>\n",
       "      <th>13</th>\n",
       "      <th>14</th>\n",
       "      <th>15</th>\n",
       "      <th>16</th>\n",
       "      <th>17</th>\n",
       "      <th>18</th>\n",
       "      <th>19</th>\n",
       "      <th>20</th>\n",
       "      <th>21</th>\n",
       "      <th>22</th>\n",
       "    </tr>\n",
       "  </thead>\n",
       "  <tbody>\n",
       "    <tr>\n",
       "      <th>0</th>\n",
       "      <td>97</td>\n",
       "      <td>272</td>\n",
       "      <td>90</td>\n",
       "      <td>223</td>\n",
       "      <td>118</td>\n",
       "      <td>121</td>\n",
       "      <td>3</td>\n",
       "      <td>72</td>\n",
       "      <td>46</td>\n",
       "      <td>171</td>\n",
       "      <td>...</td>\n",
       "      <td>109</td>\n",
       "      <td>233</td>\n",
       "      <td>305</td>\n",
       "      <td>322</td>\n",
       "      <td>210</td>\n",
       "      <td>99</td>\n",
       "      <td>20</td>\n",
       "      <td>148</td>\n",
       "      <td>194</td>\n",
       "      <td>27</td>\n",
       "    </tr>\n",
       "    <tr>\n",
       "      <th>1</th>\n",
       "      <td>40</td>\n",
       "      <td>7</td>\n",
       "      <td>51</td>\n",
       "      <td>77</td>\n",
       "      <td>139</td>\n",
       "      <td>149</td>\n",
       "      <td>171</td>\n",
       "      <td>63</td>\n",
       "      <td>10</td>\n",
       "      <td>63</td>\n",
       "      <td>...</td>\n",
       "      <td>77</td>\n",
       "      <td>285</td>\n",
       "      <td>21</td>\n",
       "      <td>257</td>\n",
       "      <td>59</td>\n",
       "      <td>142</td>\n",
       "      <td>50</td>\n",
       "      <td>39</td>\n",
       "      <td>340</td>\n",
       "      <td>339</td>\n",
       "    </tr>\n",
       "    <tr>\n",
       "      <th>2</th>\n",
       "      <td>227</td>\n",
       "      <td>284</td>\n",
       "      <td>94</td>\n",
       "      <td>360</td>\n",
       "      <td>8</td>\n",
       "      <td>273</td>\n",
       "      <td>339</td>\n",
       "      <td>146</td>\n",
       "      <td>244</td>\n",
       "      <td>54</td>\n",
       "      <td>...</td>\n",
       "      <td>250</td>\n",
       "      <td>270</td>\n",
       "      <td>362</td>\n",
       "      <td>353</td>\n",
       "      <td>212</td>\n",
       "      <td>208</td>\n",
       "      <td>189</td>\n",
       "      <td>330</td>\n",
       "      <td>21</td>\n",
       "      <td>17</td>\n",
       "    </tr>\n",
       "    <tr>\n",
       "      <th>3</th>\n",
       "      <td>108</td>\n",
       "      <td>263</td>\n",
       "      <td>160</td>\n",
       "      <td>18</td>\n",
       "      <td>349</td>\n",
       "      <td>61</td>\n",
       "      <td>47</td>\n",
       "      <td>284</td>\n",
       "      <td>319</td>\n",
       "      <td>260</td>\n",
       "      <td>...</td>\n",
       "      <td>47</td>\n",
       "      <td>161</td>\n",
       "      <td>206</td>\n",
       "      <td>260</td>\n",
       "      <td>235</td>\n",
       "      <td>325</td>\n",
       "      <td>78</td>\n",
       "      <td>281</td>\n",
       "      <td>98</td>\n",
       "      <td>190</td>\n",
       "    </tr>\n",
       "    <tr>\n",
       "      <th>4</th>\n",
       "      <td>213</td>\n",
       "      <td>77</td>\n",
       "      <td>42</td>\n",
       "      <td>363</td>\n",
       "      <td>257</td>\n",
       "      <td>59</td>\n",
       "      <td>242</td>\n",
       "      <td>183</td>\n",
       "      <td>144</td>\n",
       "      <td>307</td>\n",
       "      <td>...</td>\n",
       "      <td>22</td>\n",
       "      <td>70</td>\n",
       "      <td>180</td>\n",
       "      <td>334</td>\n",
       "      <td>85</td>\n",
       "      <td>68</td>\n",
       "      <td>66</td>\n",
       "      <td>47</td>\n",
       "      <td>6</td>\n",
       "      <td>215</td>\n",
       "    </tr>\n",
       "  </tbody>\n",
       "</table>\n",
       "<p>5 rows × 23 columns</p>\n",
       "</div>"
      ],
      "text/plain": [
       "    0    1    2    3    4    5    6    7    8    9   ...   13   14   15   16  \\\n",
       "0   97  272   90  223  118  121    3   72   46  171  ...  109  233  305  322   \n",
       "1   40    7   51   77  139  149  171   63   10   63  ...   77  285   21  257   \n",
       "2  227  284   94  360    8  273  339  146  244   54  ...  250  270  362  353   \n",
       "3  108  263  160   18  349   61   47  284  319  260  ...   47  161  206  260   \n",
       "4  213   77   42  363  257   59  242  183  144  307  ...   22   70  180  334   \n",
       "\n",
       "    17   18   19   20   21   22  \n",
       "0  210   99   20  148  194   27  \n",
       "1   59  142   50   39  340  339  \n",
       "2  212  208  189  330   21   17  \n",
       "3  235  325   78  281   98  190  \n",
       "4   85   68   66   47    6  215  \n",
       "\n",
       "[5 rows x 23 columns]"
      ]
     },
     "execution_count": 44,
     "metadata": {},
     "output_type": "execute_result"
    }
   ],
   "source": [
    "#range of 1:365\n",
    "outcomes = list(range(1,366))\n",
    "n_simulations = 10_000\n",
    "n_trials = 23\n",
    "\n",
    "same_birthday = np.random.choice(outcomes, size=(n_simulations, n_trials))\n",
    "same_birthday = pd.DataFrame(same_birthday)\n",
    "same_birthday.head()\n"
   ]
  },
  {
   "cell_type": "code",
   "execution_count": 45,
   "id": "611d19ec",
   "metadata": {},
   "outputs": [
    {
     "data": {
      "text/html": [
       "<div>\n",
       "<style scoped>\n",
       "    .dataframe tbody tr th:only-of-type {\n",
       "        vertical-align: middle;\n",
       "    }\n",
       "\n",
       "    .dataframe tbody tr th {\n",
       "        vertical-align: top;\n",
       "    }\n",
       "\n",
       "    .dataframe thead th {\n",
       "        text-align: right;\n",
       "    }\n",
       "</style>\n",
       "<table border=\"1\" class=\"dataframe\">\n",
       "  <thead>\n",
       "    <tr style=\"text-align: right;\">\n",
       "      <th></th>\n",
       "      <th>0</th>\n",
       "      <th>1</th>\n",
       "      <th>2</th>\n",
       "      <th>3</th>\n",
       "      <th>4</th>\n",
       "      <th>5</th>\n",
       "      <th>6</th>\n",
       "      <th>7</th>\n",
       "      <th>8</th>\n",
       "      <th>9</th>\n",
       "      <th>...</th>\n",
       "      <th>14</th>\n",
       "      <th>15</th>\n",
       "      <th>16</th>\n",
       "      <th>17</th>\n",
       "      <th>18</th>\n",
       "      <th>19</th>\n",
       "      <th>20</th>\n",
       "      <th>21</th>\n",
       "      <th>22</th>\n",
       "      <th>matching_birthdays</th>\n",
       "    </tr>\n",
       "  </thead>\n",
       "  <tbody>\n",
       "    <tr>\n",
       "      <th>0</th>\n",
       "      <td>97</td>\n",
       "      <td>272</td>\n",
       "      <td>90</td>\n",
       "      <td>223</td>\n",
       "      <td>118</td>\n",
       "      <td>121</td>\n",
       "      <td>3</td>\n",
       "      <td>72</td>\n",
       "      <td>46</td>\n",
       "      <td>171</td>\n",
       "      <td>...</td>\n",
       "      <td>233</td>\n",
       "      <td>305</td>\n",
       "      <td>322</td>\n",
       "      <td>210</td>\n",
       "      <td>99</td>\n",
       "      <td>20</td>\n",
       "      <td>148</td>\n",
       "      <td>194</td>\n",
       "      <td>27</td>\n",
       "      <td>False</td>\n",
       "    </tr>\n",
       "    <tr>\n",
       "      <th>1</th>\n",
       "      <td>40</td>\n",
       "      <td>7</td>\n",
       "      <td>51</td>\n",
       "      <td>77</td>\n",
       "      <td>139</td>\n",
       "      <td>149</td>\n",
       "      <td>171</td>\n",
       "      <td>63</td>\n",
       "      <td>10</td>\n",
       "      <td>63</td>\n",
       "      <td>...</td>\n",
       "      <td>285</td>\n",
       "      <td>21</td>\n",
       "      <td>257</td>\n",
       "      <td>59</td>\n",
       "      <td>142</td>\n",
       "      <td>50</td>\n",
       "      <td>39</td>\n",
       "      <td>340</td>\n",
       "      <td>339</td>\n",
       "      <td>True</td>\n",
       "    </tr>\n",
       "    <tr>\n",
       "      <th>2</th>\n",
       "      <td>227</td>\n",
       "      <td>284</td>\n",
       "      <td>94</td>\n",
       "      <td>360</td>\n",
       "      <td>8</td>\n",
       "      <td>273</td>\n",
       "      <td>339</td>\n",
       "      <td>146</td>\n",
       "      <td>244</td>\n",
       "      <td>54</td>\n",
       "      <td>...</td>\n",
       "      <td>270</td>\n",
       "      <td>362</td>\n",
       "      <td>353</td>\n",
       "      <td>212</td>\n",
       "      <td>208</td>\n",
       "      <td>189</td>\n",
       "      <td>330</td>\n",
       "      <td>21</td>\n",
       "      <td>17</td>\n",
       "      <td>False</td>\n",
       "    </tr>\n",
       "    <tr>\n",
       "      <th>3</th>\n",
       "      <td>108</td>\n",
       "      <td>263</td>\n",
       "      <td>160</td>\n",
       "      <td>18</td>\n",
       "      <td>349</td>\n",
       "      <td>61</td>\n",
       "      <td>47</td>\n",
       "      <td>284</td>\n",
       "      <td>319</td>\n",
       "      <td>260</td>\n",
       "      <td>...</td>\n",
       "      <td>161</td>\n",
       "      <td>206</td>\n",
       "      <td>260</td>\n",
       "      <td>235</td>\n",
       "      <td>325</td>\n",
       "      <td>78</td>\n",
       "      <td>281</td>\n",
       "      <td>98</td>\n",
       "      <td>190</td>\n",
       "      <td>True</td>\n",
       "    </tr>\n",
       "    <tr>\n",
       "      <th>4</th>\n",
       "      <td>213</td>\n",
       "      <td>77</td>\n",
       "      <td>42</td>\n",
       "      <td>363</td>\n",
       "      <td>257</td>\n",
       "      <td>59</td>\n",
       "      <td>242</td>\n",
       "      <td>183</td>\n",
       "      <td>144</td>\n",
       "      <td>307</td>\n",
       "      <td>...</td>\n",
       "      <td>70</td>\n",
       "      <td>180</td>\n",
       "      <td>334</td>\n",
       "      <td>85</td>\n",
       "      <td>68</td>\n",
       "      <td>66</td>\n",
       "      <td>47</td>\n",
       "      <td>6</td>\n",
       "      <td>215</td>\n",
       "      <td>False</td>\n",
       "    </tr>\n",
       "    <tr>\n",
       "      <th>...</th>\n",
       "      <td>...</td>\n",
       "      <td>...</td>\n",
       "      <td>...</td>\n",
       "      <td>...</td>\n",
       "      <td>...</td>\n",
       "      <td>...</td>\n",
       "      <td>...</td>\n",
       "      <td>...</td>\n",
       "      <td>...</td>\n",
       "      <td>...</td>\n",
       "      <td>...</td>\n",
       "      <td>...</td>\n",
       "      <td>...</td>\n",
       "      <td>...</td>\n",
       "      <td>...</td>\n",
       "      <td>...</td>\n",
       "      <td>...</td>\n",
       "      <td>...</td>\n",
       "      <td>...</td>\n",
       "      <td>...</td>\n",
       "      <td>...</td>\n",
       "    </tr>\n",
       "    <tr>\n",
       "      <th>9995</th>\n",
       "      <td>5</td>\n",
       "      <td>103</td>\n",
       "      <td>315</td>\n",
       "      <td>25</td>\n",
       "      <td>165</td>\n",
       "      <td>98</td>\n",
       "      <td>43</td>\n",
       "      <td>230</td>\n",
       "      <td>185</td>\n",
       "      <td>318</td>\n",
       "      <td>...</td>\n",
       "      <td>143</td>\n",
       "      <td>41</td>\n",
       "      <td>1</td>\n",
       "      <td>175</td>\n",
       "      <td>201</td>\n",
       "      <td>291</td>\n",
       "      <td>170</td>\n",
       "      <td>110</td>\n",
       "      <td>103</td>\n",
       "      <td>True</td>\n",
       "    </tr>\n",
       "    <tr>\n",
       "      <th>9996</th>\n",
       "      <td>342</td>\n",
       "      <td>260</td>\n",
       "      <td>257</td>\n",
       "      <td>185</td>\n",
       "      <td>76</td>\n",
       "      <td>200</td>\n",
       "      <td>19</td>\n",
       "      <td>129</td>\n",
       "      <td>232</td>\n",
       "      <td>47</td>\n",
       "      <td>...</td>\n",
       "      <td>222</td>\n",
       "      <td>111</td>\n",
       "      <td>16</td>\n",
       "      <td>262</td>\n",
       "      <td>213</td>\n",
       "      <td>239</td>\n",
       "      <td>291</td>\n",
       "      <td>198</td>\n",
       "      <td>54</td>\n",
       "      <td>True</td>\n",
       "    </tr>\n",
       "    <tr>\n",
       "      <th>9997</th>\n",
       "      <td>27</td>\n",
       "      <td>358</td>\n",
       "      <td>121</td>\n",
       "      <td>213</td>\n",
       "      <td>3</td>\n",
       "      <td>33</td>\n",
       "      <td>359</td>\n",
       "      <td>138</td>\n",
       "      <td>159</td>\n",
       "      <td>258</td>\n",
       "      <td>...</td>\n",
       "      <td>344</td>\n",
       "      <td>147</td>\n",
       "      <td>111</td>\n",
       "      <td>170</td>\n",
       "      <td>21</td>\n",
       "      <td>69</td>\n",
       "      <td>346</td>\n",
       "      <td>35</td>\n",
       "      <td>125</td>\n",
       "      <td>False</td>\n",
       "    </tr>\n",
       "    <tr>\n",
       "      <th>9998</th>\n",
       "      <td>220</td>\n",
       "      <td>353</td>\n",
       "      <td>247</td>\n",
       "      <td>353</td>\n",
       "      <td>240</td>\n",
       "      <td>273</td>\n",
       "      <td>245</td>\n",
       "      <td>278</td>\n",
       "      <td>239</td>\n",
       "      <td>293</td>\n",
       "      <td>...</td>\n",
       "      <td>202</td>\n",
       "      <td>174</td>\n",
       "      <td>201</td>\n",
       "      <td>312</td>\n",
       "      <td>86</td>\n",
       "      <td>265</td>\n",
       "      <td>274</td>\n",
       "      <td>91</td>\n",
       "      <td>39</td>\n",
       "      <td>True</td>\n",
       "    </tr>\n",
       "    <tr>\n",
       "      <th>9999</th>\n",
       "      <td>208</td>\n",
       "      <td>287</td>\n",
       "      <td>102</td>\n",
       "      <td>10</td>\n",
       "      <td>36</td>\n",
       "      <td>12</td>\n",
       "      <td>264</td>\n",
       "      <td>84</td>\n",
       "      <td>267</td>\n",
       "      <td>199</td>\n",
       "      <td>...</td>\n",
       "      <td>114</td>\n",
       "      <td>286</td>\n",
       "      <td>184</td>\n",
       "      <td>328</td>\n",
       "      <td>65</td>\n",
       "      <td>302</td>\n",
       "      <td>107</td>\n",
       "      <td>260</td>\n",
       "      <td>283</td>\n",
       "      <td>False</td>\n",
       "    </tr>\n",
       "  </tbody>\n",
       "</table>\n",
       "<p>10000 rows × 24 columns</p>\n",
       "</div>"
      ],
      "text/plain": [
       "        0    1    2    3    4    5    6    7    8    9  ...   14   15   16  \\\n",
       "0      97  272   90  223  118  121    3   72   46  171  ...  233  305  322   \n",
       "1      40    7   51   77  139  149  171   63   10   63  ...  285   21  257   \n",
       "2     227  284   94  360    8  273  339  146  244   54  ...  270  362  353   \n",
       "3     108  263  160   18  349   61   47  284  319  260  ...  161  206  260   \n",
       "4     213   77   42  363  257   59  242  183  144  307  ...   70  180  334   \n",
       "...   ...  ...  ...  ...  ...  ...  ...  ...  ...  ...  ...  ...  ...  ...   \n",
       "9995    5  103  315   25  165   98   43  230  185  318  ...  143   41    1   \n",
       "9996  342  260  257  185   76  200   19  129  232   47  ...  222  111   16   \n",
       "9997   27  358  121  213    3   33  359  138  159  258  ...  344  147  111   \n",
       "9998  220  353  247  353  240  273  245  278  239  293  ...  202  174  201   \n",
       "9999  208  287  102   10   36   12  264   84  267  199  ...  114  286  184   \n",
       "\n",
       "       17   18   19   20   21   22  matching_birthdays  \n",
       "0     210   99   20  148  194   27               False  \n",
       "1      59  142   50   39  340  339                True  \n",
       "2     212  208  189  330   21   17               False  \n",
       "3     235  325   78  281   98  190                True  \n",
       "4      85   68   66   47    6  215               False  \n",
       "...   ...  ...  ...  ...  ...  ...                 ...  \n",
       "9995  175  201  291  170  110  103                True  \n",
       "9996  262  213  239  291  198   54                True  \n",
       "9997  170   21   69  346   35  125               False  \n",
       "9998  312   86  265  274   91   39                True  \n",
       "9999  328   65  302  107  260  283               False  \n",
       "\n",
       "[10000 rows x 24 columns]"
      ]
     },
     "execution_count": 45,
     "metadata": {},
     "output_type": "execute_result"
    }
   ],
   "source": [
    "#nunique will count the numbers that are unique in the dataset so if it is under the target amount then it should pass true\n",
    "\n",
    "same_birthday['matching_birthdays'] = same_birthday.nunique(axis = 1) < n_trials\n",
    "same_birthday"
   ]
  },
  {
   "cell_type": "code",
   "execution_count": 46,
   "id": "c4a5369f",
   "metadata": {},
   "outputs": [
    {
     "data": {
      "text/plain": [
       "0.5095"
      ]
     },
     "execution_count": 46,
     "metadata": {},
     "output_type": "execute_result"
    }
   ],
   "source": [
    "two_bdays = same_birthday['matching_birthdays'].mean()\n",
    "two_bdays"
   ]
  },
  {
   "cell_type": "code",
   "execution_count": 47,
   "id": "683d0ebf",
   "metadata": {},
   "outputs": [
    {
     "name": "stdout",
     "output_type": "stream",
     "text": [
      "The odds of 23 people sharing a birthday are 0.5095\n"
     ]
    }
   ],
   "source": [
    "print(f\"The odds of 23 people sharing a birthday are {two_bdays}\")"
   ]
  },
  {
   "cell_type": "markdown",
   "id": "ba414f5b",
   "metadata": {},
   "source": [
    "### JON'S CODE:"
   ]
  },
  {
   "cell_type": "code",
   "execution_count": 49,
   "id": "9e609823",
   "metadata": {},
   "outputs": [],
   "source": [
    "def shared_birthday(people):\n",
    "\n",
    "    nrows = 100_000 # set rows to number of simulations\n",
    "    ncols = people  # set columns to number of people in each simulation\n",
    "\n",
    "    # create array with each value representing the numbered day of the year that person was born on. (This ignores leap years)\n",
    "    # reshape the aray into trial groups\n",
    "    sightings = np.random.choice([r for r in range(366)], nrows * ncols).reshape(nrows, ncols)\n",
    "\n",
    "    # convert to data frame\n",
    "    df = pd.DataFrame(sightings)\n",
    "\n",
    "    # Add boolian column to df showing weather there are less unique numbers in each row (trial) than there are total columns\n",
    "    df['matching_birthdays'] = df.nunique(axis=1) < ncols\n",
    "\n",
    "    # get mean of calculation True/False columns\n",
    "    # format and print results\n",
    "    matching_birthdays = df['matching_birthdays'].mean()\n",
    "\n",
    "    # print result\n",
    "    print(f'The odds of a room of {ncols} people having at least two people that share a birthday are {round(matching_birthdays*100)}%')"
   ]
  },
  {
   "cell_type": "code",
   "execution_count": 51,
   "id": "a81d1034",
   "metadata": {},
   "outputs": [
    {
     "name": "stdout",
     "output_type": "stream",
     "text": [
      "The odds of a room of 23 people having at least two people that share a birthday are 51%\n",
      "The odds of a room of 20 people having at least two people that share a birthday are 41%\n",
      "The odds of a room of 40 people having at least two people that share a birthday are 89%\n"
     ]
    }
   ],
   "source": [
    "num_list = [23, 20, 40]\n",
    "\n",
    "for num in num_list:\n",
    "    shared_birthday(num)"
   ]
  },
  {
   "cell_type": "code",
   "execution_count": null,
   "id": "fc3d4301",
   "metadata": {},
   "outputs": [],
   "source": []
  },
  {
   "cell_type": "markdown",
   "id": "f657e2e2",
   "metadata": {},
   "source": [
    "### Mage Duel!\n",
    "Let's use what we've learned to play a mage duel!\n",
    "\n",
    "Imagine your wizard has 6d4 health points and you have spells that do 6d4 damage. \"6d4\" means rolling six 4-sided dice and summing the result.\n",
    "\n",
    "Your opposing mage has 4d6 health points and spells that do 4d6. \"4d6\" means rolling four six-sided dice and summing the result.\n",
    "\n",
    "Exercises\n",
    "Simulate mage duels to answer who is the more powerful mage?\n",
    "\n",
    "Before running simulations, do you have a hypothesis of which mage will win? Do you have a hunch? Write it down. This is your first exercise.\n",
    "Simulate 10 mage duels. Is there a clear winner? Run that 10 duel simulation again. Was the answer similar?\n",
    "Do the results change much at 100 duels?\n",
    "Now, simulate 10,000 mage duels. Is there a clear winner?"
   ]
  },
  {
   "cell_type": "code",
   "execution_count": 89,
   "id": "9e6a0bef",
   "metadata": {},
   "outputs": [
    {
     "data": {
      "text/plain": [
       "0     18\n",
       "1     11\n",
       "2     17\n",
       "3     21\n",
       "4     13\n",
       "      ..\n",
       "95    19\n",
       "96    17\n",
       "97    17\n",
       "98    16\n",
       "99    11\n",
       "Length: 100, dtype: int64"
      ]
     },
     "execution_count": 89,
     "metadata": {},
     "output_type": "execute_result"
    }
   ],
   "source": [
    "#Wizard 1 \n",
    "outcomes = [1,2,3,4]\n",
    "n_simulations = 100\n",
    "n_trials = 6\n",
    "\n",
    "\n",
    "wizard_1 = np.random.choice(outcomes, size=(n_simulations, n_trials))\n",
    "wizard_1 = pd.DataFrame(wizard_1)\n",
    "wizard_1 = wizard_1.sum(axis=1)\n",
    "wizard_1"
   ]
  },
  {
   "cell_type": "code",
   "execution_count": 90,
   "id": "c47888b1",
   "metadata": {},
   "outputs": [
    {
     "data": {
      "text/plain": [
       "0      7\n",
       "1     10\n",
       "2      9\n",
       "3     21\n",
       "4      8\n",
       "      ..\n",
       "95    11\n",
       "96    19\n",
       "97    15\n",
       "98    15\n",
       "99     9\n",
       "Length: 100, dtype: int64"
      ]
     },
     "execution_count": 90,
     "metadata": {},
     "output_type": "execute_result"
    }
   ],
   "source": [
    "#wizard 2\n",
    "#Wizard 1 \n",
    "outcomes = [1,2,3,4,5,6]\n",
    "n_simulations = 100\n",
    "n_trials = 4\n",
    "\n",
    "\n",
    "wizard_2 = np.random.choice(outcomes, size=(n_simulations, n_trials))\n",
    "wizard_2 = pd.DataFrame(wizard_2)\n",
    "wizard_2 = wizard_2.sum(axis=1)\n",
    "wizard_2\n"
   ]
  },
  {
   "cell_type": "code",
   "execution_count": 91,
   "id": "50a0ae1c",
   "metadata": {},
   "outputs": [
    {
     "data": {
      "text/html": [
       "<div>\n",
       "<style scoped>\n",
       "    .dataframe tbody tr th:only-of-type {\n",
       "        vertical-align: middle;\n",
       "    }\n",
       "\n",
       "    .dataframe tbody tr th {\n",
       "        vertical-align: top;\n",
       "    }\n",
       "\n",
       "    .dataframe thead th {\n",
       "        text-align: right;\n",
       "    }\n",
       "</style>\n",
       "<table border=\"1\" class=\"dataframe\">\n",
       "  <thead>\n",
       "    <tr style=\"text-align: right;\">\n",
       "      <th></th>\n",
       "      <th>0</th>\n",
       "      <th>1</th>\n",
       "    </tr>\n",
       "  </thead>\n",
       "  <tbody>\n",
       "    <tr>\n",
       "      <th>0</th>\n",
       "      <td>18</td>\n",
       "      <td>7</td>\n",
       "    </tr>\n",
       "    <tr>\n",
       "      <th>1</th>\n",
       "      <td>11</td>\n",
       "      <td>10</td>\n",
       "    </tr>\n",
       "    <tr>\n",
       "      <th>2</th>\n",
       "      <td>17</td>\n",
       "      <td>9</td>\n",
       "    </tr>\n",
       "    <tr>\n",
       "      <th>3</th>\n",
       "      <td>21</td>\n",
       "      <td>21</td>\n",
       "    </tr>\n",
       "    <tr>\n",
       "      <th>4</th>\n",
       "      <td>13</td>\n",
       "      <td>8</td>\n",
       "    </tr>\n",
       "    <tr>\n",
       "      <th>...</th>\n",
       "      <td>...</td>\n",
       "      <td>...</td>\n",
       "    </tr>\n",
       "    <tr>\n",
       "      <th>95</th>\n",
       "      <td>19</td>\n",
       "      <td>11</td>\n",
       "    </tr>\n",
       "    <tr>\n",
       "      <th>96</th>\n",
       "      <td>17</td>\n",
       "      <td>19</td>\n",
       "    </tr>\n",
       "    <tr>\n",
       "      <th>97</th>\n",
       "      <td>17</td>\n",
       "      <td>15</td>\n",
       "    </tr>\n",
       "    <tr>\n",
       "      <th>98</th>\n",
       "      <td>16</td>\n",
       "      <td>15</td>\n",
       "    </tr>\n",
       "    <tr>\n",
       "      <th>99</th>\n",
       "      <td>11</td>\n",
       "      <td>9</td>\n",
       "    </tr>\n",
       "  </tbody>\n",
       "</table>\n",
       "<p>100 rows × 2 columns</p>\n",
       "</div>"
      ],
      "text/plain": [
       "     0   1\n",
       "0   18   7\n",
       "1   11  10\n",
       "2   17   9\n",
       "3   21  21\n",
       "4   13   8\n",
       "..  ..  ..\n",
       "95  19  11\n",
       "96  17  19\n",
       "97  17  15\n",
       "98  16  15\n",
       "99  11   9\n",
       "\n",
       "[100 rows x 2 columns]"
      ]
     },
     "execution_count": 91,
     "metadata": {},
     "output_type": "execute_result"
    }
   ],
   "source": [
    "duel = pd.concat([wizard_1,wizard_2],axis=1)\n",
    "duel"
   ]
  },
  {
   "cell_type": "code",
   "execution_count": 92,
   "id": "df7f1b25",
   "metadata": {},
   "outputs": [
    {
     "data": {
      "text/html": [
       "<div>\n",
       "<style scoped>\n",
       "    .dataframe tbody tr th:only-of-type {\n",
       "        vertical-align: middle;\n",
       "    }\n",
       "\n",
       "    .dataframe tbody tr th {\n",
       "        vertical-align: top;\n",
       "    }\n",
       "\n",
       "    .dataframe thead th {\n",
       "        text-align: right;\n",
       "    }\n",
       "</style>\n",
       "<table border=\"1\" class=\"dataframe\">\n",
       "  <thead>\n",
       "    <tr style=\"text-align: right;\">\n",
       "      <th></th>\n",
       "      <th>Wizard1</th>\n",
       "      <th>Wizard2</th>\n",
       "    </tr>\n",
       "  </thead>\n",
       "  <tbody>\n",
       "    <tr>\n",
       "      <th>0</th>\n",
       "      <td>18</td>\n",
       "      <td>7</td>\n",
       "    </tr>\n",
       "    <tr>\n",
       "      <th>1</th>\n",
       "      <td>11</td>\n",
       "      <td>10</td>\n",
       "    </tr>\n",
       "    <tr>\n",
       "      <th>2</th>\n",
       "      <td>17</td>\n",
       "      <td>9</td>\n",
       "    </tr>\n",
       "    <tr>\n",
       "      <th>3</th>\n",
       "      <td>21</td>\n",
       "      <td>21</td>\n",
       "    </tr>\n",
       "    <tr>\n",
       "      <th>4</th>\n",
       "      <td>13</td>\n",
       "      <td>8</td>\n",
       "    </tr>\n",
       "    <tr>\n",
       "      <th>...</th>\n",
       "      <td>...</td>\n",
       "      <td>...</td>\n",
       "    </tr>\n",
       "    <tr>\n",
       "      <th>95</th>\n",
       "      <td>19</td>\n",
       "      <td>11</td>\n",
       "    </tr>\n",
       "    <tr>\n",
       "      <th>96</th>\n",
       "      <td>17</td>\n",
       "      <td>19</td>\n",
       "    </tr>\n",
       "    <tr>\n",
       "      <th>97</th>\n",
       "      <td>17</td>\n",
       "      <td>15</td>\n",
       "    </tr>\n",
       "    <tr>\n",
       "      <th>98</th>\n",
       "      <td>16</td>\n",
       "      <td>15</td>\n",
       "    </tr>\n",
       "    <tr>\n",
       "      <th>99</th>\n",
       "      <td>11</td>\n",
       "      <td>9</td>\n",
       "    </tr>\n",
       "  </tbody>\n",
       "</table>\n",
       "<p>100 rows × 2 columns</p>\n",
       "</div>"
      ],
      "text/plain": [
       "    Wizard1  Wizard2\n",
       "0        18        7\n",
       "1        11       10\n",
       "2        17        9\n",
       "3        21       21\n",
       "4        13        8\n",
       "..      ...      ...\n",
       "95       19       11\n",
       "96       17       19\n",
       "97       17       15\n",
       "98       16       15\n",
       "99       11        9\n",
       "\n",
       "[100 rows x 2 columns]"
      ]
     },
     "execution_count": 92,
     "metadata": {},
     "output_type": "execute_result"
    }
   ],
   "source": [
    "duel = duel.rename(columns={0: \"Wizard1\", 1:\"Wizard2\"})\n",
    "duel"
   ]
  },
  {
   "cell_type": "code",
   "execution_count": 93,
   "id": "11fe0633",
   "metadata": {},
   "outputs": [
    {
     "data": {
      "text/plain": [
       "0.57"
      ]
     },
     "execution_count": 93,
     "metadata": {},
     "output_type": "execute_result"
    }
   ],
   "source": [
    "winner = duel.Wizard1 > duel.Wizard2\n",
    "winner.mean()\n",
    "\n",
    "#percent that Wizard 1 wins"
   ]
  },
  {
   "cell_type": "code",
   "execution_count": 94,
   "id": "4515864e",
   "metadata": {},
   "outputs": [
    {
     "data": {
      "text/plain": [
       "0.43000000000000005"
      ]
     },
     "execution_count": 94,
     "metadata": {},
     "output_type": "execute_result"
    }
   ],
   "source": [
    "1-winner.mean()\n",
    "\n",
    "#percent that Wizard 2 wins"
   ]
  },
  {
   "cell_type": "code",
   "execution_count": null,
   "id": "73c4329a",
   "metadata": {},
   "outputs": [],
   "source": []
  },
  {
   "cell_type": "markdown",
   "id": "e1e915e3",
   "metadata": {},
   "source": [
    "At 10 duels the probability is 70/30\n",
    "At 100 duels the probability is 57/43\n",
    "At 10,000 duels the probability is 54/45"
   ]
  },
  {
   "cell_type": "code",
   "execution_count": null,
   "id": "111ac73f",
   "metadata": {},
   "outputs": [],
   "source": []
  },
  {
   "cell_type": "code",
   "execution_count": null,
   "id": "405049d7",
   "metadata": {},
   "outputs": [],
   "source": [
    "#will try to attempt last bonus later"
   ]
  }
 ],
 "metadata": {
  "kernelspec": {
   "display_name": "Python 3",
   "language": "python",
   "name": "python3"
  },
  "language_info": {
   "codemirror_mode": {
    "name": "ipython",
    "version": 3
   },
   "file_extension": ".py",
   "mimetype": "text/x-python",
   "name": "python",
   "nbconvert_exporter": "python",
   "pygments_lexer": "ipython3",
   "version": "3.8.8"
  }
 },
 "nbformat": 4,
 "nbformat_minor": 5
}
